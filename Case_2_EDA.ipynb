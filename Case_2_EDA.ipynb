{
 "cells": [
  {
   "cell_type": "markdown",
   "source": "# Case # 2 - EDA",
   "metadata": {
    "tags": [],
    "cell_id": "00001-916e2692-6e0b-4465-8f36-3a54240e1fe4",
    "is_collapsed": false,
    "deepnote_cell_type": "text-cell-h1"
   }
  },
  {
   "cell_type": "markdown",
   "source": "## Business Problem",
   "metadata": {
    "tags": [],
    "cell_id": "00001-91959b49-56a9-4828-baf3-6fead5d29244",
    "is_collapsed": false,
    "deepnote_cell_type": "text-cell-h2"
   }
  },
  {
   "cell_type": "markdown",
   "source": "For this case we are going to assume that you are interested on setting an Airbnb rental in [Zurich (Switzerland)](https://en.wikipedia.org/wiki/Zürich) and you want to understand the behavior of the market, what you can expect to charge per night and find any recommendation that can be done on setting this new business. ",
   "metadata": {
    "tags": [],
    "cell_id": "00002-308aaa99-ee9b-4f7f-83bf-e47e47771b48",
    "deepnote_cell_type": "markdown"
   }
  },
  {
   "cell_type": "markdown",
   "source": "## Data Import",
   "metadata": {
    "tags": [],
    "cell_id": "00001-e767c459-5d62-4755-8b3f-baf35544b3cc",
    "is_collapsed": false,
    "deepnote_cell_type": "text-cell-h2"
   }
  },
  {
   "cell_type": "markdown",
   "source": "### Packages Import",
   "metadata": {
    "tags": [],
    "cell_id": "00002-19ea2288-4dc3-444b-ac59-da2e4c10aa25",
    "is_collapsed": false,
    "deepnote_cell_type": "text-cell-h3"
   }
  },
  {
   "cell_type": "markdown",
   "source": "All the packages required for the script  must be imported. For this case, we are going to use Pandas for data analysis and data manipulation ([Pandas Documentation](https://pandas.pydata.org)) and Seaborn and Matplotlib for data visualization ([Seaborn Documentation](https://seaborn.pydata.org/#) and [Matplotlib Documentation](https://matplotlib.org))",
   "metadata": {
    "tags": [],
    "cell_id": "00003-54fc78d3-28fe-420d-bbc1-8e9e747f9ab0",
    "deepnote_cell_type": "markdown"
   }
  },
  {
   "cell_type": "code",
   "metadata": {
    "tags": [],
    "cell_id": "00004-58ae04ca-c048-4d6f-ba4c-0d1a0ba1e6a6",
    "deepnote_to_be_reexecuted": false,
    "source_hash": "bb92a1c4",
    "execution_start": 1631372260426,
    "execution_millis": 1100,
    "deepnote_cell_type": "code"
   },
   "source": "import pandas as pd\nimport seaborn as sns\nimport matplotlib.pyplot as plt\nfrom wordcloud import WordCloud, STOPWORDS, ImageColorGenerator",
   "outputs": [],
   "execution_count": 1
  },
  {
   "cell_type": "markdown",
   "source": "### Data Load",
   "metadata": {
    "tags": [],
    "cell_id": "00005-a4817fc5-9624-4b04-9f5e-64af244430b1",
    "is_collapsed": false,
    "deepnote_cell_type": "text-cell-h3"
   }
  },
  {
   "cell_type": "markdown",
   "source": "All data used on this case is pulished under a [Public Domain](http://creativecommons.org/publicdomain/zero/1.0/) license directly from [Airbnb](http://insideairbnb.com/get-the-data.html).\n\nData tables are usually accompanied by a data dictionary that explains the content of the information contained in one of the columns and some times provides some business context.\nIn the case of these data, the dictionary can be obtained at: [Data Dictionary](https://docs.google.com/spreadsheets/d/1iWCNJcSutYqpULSQHlNyGInUvHg2BoUGoNRIGa6Szc4/edit#gid=982310896)\n",
   "metadata": {
    "tags": [],
    "cell_id": "00007-8e59f617-cf55-467f-8cc3-5b90ade55453",
    "deepnote_cell_type": "markdown"
   }
  },
  {
   "cell_type": "markdown",
   "source": "External data is usually found as a Comma Separated Values (.csv) file. In order to be able to work on it, data needs to be loaded and stored in the script. In this case, as we are using pandas, we use the pandas method [pd.read_csv()](https://pandas.pydata.org/docs/reference/api/pandas.read_csv.html) to store the information in a Dataframe.\nThe method used to load the files must be dependent on the type of file that needs to be imported, such as [Excel (.xls)](https://pandas.pydata.org/docs/reference/api/pandas.read_excel.html) or [JSON (.json)](https://pandas.pydata.org/docs/reference/api/pandas.io.json.read_json.html)",
   "metadata": {
    "tags": [],
    "cell_id": "00009-52765c1b-a34d-46b2-b92c-f7e40cc8d117",
    "deepnote_cell_type": "markdown"
   }
  },
  {
   "cell_type": "code",
   "metadata": {
    "tags": [],
    "cell_id": "00006-a34d6a14-d429-43b9-91cb-fe6617952820",
    "deepnote_to_be_reexecuted": false,
    "source_hash": "c7e8fab5",
    "execution_start": 1631372261536,
    "execution_millis": 14,
    "deepnote_cell_type": "code"
   },
   "source": "# Use of pandas method read_csv() to load data from a csv data downloaded form Airbnb web page\ndf = pd.read_csv('/work/indu5000_case_2/Data/listings_zurich_short.csv')",
   "outputs": [],
   "execution_count": 2
  },
  {
   "cell_type": "markdown",
   "source": "## Basic Data Exploration",
   "metadata": {
    "tags": [],
    "cell_id": "00007-c6ffe792-ab01-46a8-ad3a-07871b9718d3",
    "is_collapsed": false,
    "deepnote_cell_type": "text-cell-h2"
   }
  },
  {
   "cell_type": "markdown",
   "source": "Once data is loaded, and before we can actually start working on it, we need to be able to understand the data we are working with. Dataframes objects have some attributes and method that allow us to have an overview of the data stored. ",
   "metadata": {
    "tags": [],
    "cell_id": "00012-9e5eb332-0d8b-467e-9716-765f0165d357",
    "deepnote_cell_type": "markdown"
   }
  },
  {
   "cell_type": "markdown",
   "source": "### DataFrame information",
   "metadata": {
    "tags": [],
    "cell_id": "00008-44d7198c-7f0f-45a5-887a-6283dd7b027c",
    "is_collapsed": false,
    "deepnote_cell_type": "text-cell-h3"
   }
  },
  {
   "cell_type": "markdown",
   "source": "First two attributes are related to the amount of data that we have. [df.size](https://pandas.pydata.org/docs/reference/api/pandas.DataFrame.size.html) returns the total number of elements (columns x rows) and [df.shape](https://pandas.pydata.org/pandas-docs/stable/reference/api/pandas.DataFrame.shape.html) returns the amount of rows and columns in the dataframe. This gives us an idea of how many data points we have",
   "metadata": {
    "tags": [],
    "cell_id": "00014-3deee6d3-606c-46c1-a05b-d30139b868db",
    "deepnote_cell_type": "markdown"
   }
  },
  {
   "cell_type": "code",
   "metadata": {
    "tags": [],
    "cell_id": "00009-36458087-1d6b-41e4-804e-be293df736a0",
    "deepnote_to_be_reexecuted": false,
    "source_hash": "33bf4493",
    "execution_start": 1631372261629,
    "execution_millis": 28,
    "deepnote_cell_type": "code"
   },
   "source": "df.size",
   "outputs": [
    {
     "output_type": "execute_result",
     "execution_count": 3,
     "data": {
      "text/plain": "28720"
     },
     "metadata": {}
    }
   ],
   "execution_count": 3
  },
  {
   "cell_type": "code",
   "metadata": {
    "tags": [],
    "cell_id": "00010-65f388e0-e432-44e9-b2aa-e3bb4ddc5f22",
    "deepnote_to_be_reexecuted": false,
    "source_hash": "14f60b8f",
    "execution_start": 1631372261647,
    "execution_millis": 64,
    "deepnote_cell_type": "code"
   },
   "source": "df.shape",
   "outputs": [
    {
     "output_type": "execute_result",
     "execution_count": 4,
     "data": {
      "text/plain": "(1795, 16)"
     },
     "metadata": {}
    }
   ],
   "execution_count": 4
  },
  {
   "cell_type": "markdown",
   "source": "**What can we analyze from the previous information?**",
   "metadata": {
    "tags": [],
    "cell_id": "00014-54a327a4-81a5-452a-ad58-5a0a311146e5",
    "deepnote_cell_type": "markdown"
   }
  },
  {
   "cell_type": "markdown",
   "source": "**Answer here**",
   "metadata": {
    "tags": [],
    "cell_id": "00015-f1b56f1c-fc8c-403f-8946-128c76918855",
    "deepnote_cell_type": "markdown"
   }
  },
  {
   "cell_type": "markdown",
   "source": "Then, we go a little bit further and start looking information about the amount of columns and the type of data contained in each column.\nTaking into account that, on DataFrames, the characteristics or features of the data are specified on the columns. And each one of the records or events are stored in the rows.  ",
   "metadata": {
    "tags": [],
    "cell_id": "00019-f630492d-0f02-427a-9fdc-c513dfceda2d",
    "deepnote_cell_type": "markdown"
   }
  },
  {
   "cell_type": "code",
   "metadata": {
    "tags": [],
    "cell_id": "00009-d7d2688a-4fba-45c0-a1b4-bf7e772f113b",
    "deepnote_to_be_reexecuted": false,
    "source_hash": "de1e323c",
    "execution_start": 1631372261691,
    "execution_millis": 21,
    "deepnote_cell_type": "code"
   },
   "source": "df.info()",
   "outputs": [
    {
     "name": "stdout",
     "text": "<class 'pandas.core.frame.DataFrame'>\nRangeIndex: 1795 entries, 0 to 1794\nData columns (total 16 columns):\n #   Column                          Non-Null Count  Dtype  \n---  ------                          --------------  -----  \n 0   id                              1795 non-null   int64  \n 1   name                            1794 non-null   object \n 2   host_id                         1795 non-null   int64  \n 3   host_name                       1757 non-null   object \n 4   neighbourhood_group             1795 non-null   object \n 5   neighbourhood                   1795 non-null   object \n 6   latitude                        1795 non-null   float64\n 7   longitude                       1795 non-null   float64\n 8   room_type                       1795 non-null   object \n 9   price                           1795 non-null   int64  \n 10  minimum_nights                  1795 non-null   int64  \n 11  number_of_reviews               1795 non-null   int64  \n 12  last_review                     1368 non-null   object \n 13  reviews_per_month               1368 non-null   float64\n 14  calculated_host_listings_count  1795 non-null   int64  \n 15  availability_365                1795 non-null   int64  \ndtypes: float64(3), int64(7), object(6)\nmemory usage: 224.5+ KB\n",
     "output_type": "stream"
    }
   ],
   "execution_count": 5
  },
  {
   "cell_type": "markdown",
   "source": "**What can we analyze from the previous information?**",
   "metadata": {
    "tags": [],
    "cell_id": "00017-ca395b30-e30a-4af9-9f43-546d095cc53e",
    "deepnote_cell_type": "markdown"
   }
  },
  {
   "cell_type": "markdown",
   "source": "**Answer here**",
   "metadata": {
    "tags": [],
    "cell_id": "00018-10694ea8-f181-44aa-8c59-ad8447859e06",
    "deepnote_cell_type": "markdown"
   }
  },
  {
   "cell_type": "markdown",
   "source": "Next step will be to understand the distribution of data by using the method [df.info()](https://pandas.pydata.org/pandas-docs/stable/reference/api/pandas.DataFrame.info.html). Understand how wide the distibution is (min, max and standard deviation), it's skewness (mean and median) and basic quantiles (25th, 50th and 75th)",
   "metadata": {
    "tags": [],
    "cell_id": "00023-d80167a9-440f-43f2-8577-816c8a5a10e0",
    "deepnote_cell_type": "markdown"
   }
  },
  {
   "cell_type": "code",
   "metadata": {
    "tags": [],
    "cell_id": "00010-2e0cecea-9184-419f-9d79-5654ad912418",
    "deepnote_to_be_reexecuted": false,
    "source_hash": "f88152d9",
    "execution_start": 1631372261692,
    "execution_millis": 187,
    "deepnote_cell_type": "code"
   },
   "source": "df.describe()",
   "outputs": [
    {
     "output_type": "execute_result",
     "execution_count": 6,
     "data": {
      "application/vnd.deepnote.dataframe.v2+json": {
       "row_count": 8,
       "column_count": 10,
       "columns": [
        {
         "name": "id",
         "dtype": "float64",
         "stats": {
          "unique_count": 8,
          "nan_count": 0,
          "min": "1795.0",
          "max": "48879374.0",
          "histogram": [
           {
            "bin_start": 1795,
            "bin_end": 4889552.9,
            "count": 2
           },
           {
            "bin_start": 4889552.9,
            "bin_end": 9777310.8,
            "count": 0
           },
           {
            "bin_start": 9777310.8,
            "bin_end": 14665068.700000001,
            "count": 0
           },
           {
            "bin_start": 14665068.700000001,
            "bin_end": 19552826.6,
            "count": 2
           },
           {
            "bin_start": 19552826.6,
            "bin_end": 24440584.5,
            "count": 0
           },
           {
            "bin_start": 24440584.5,
            "bin_end": 29328342.400000002,
            "count": 1
           },
           {
            "bin_start": 29328342.400000002,
            "bin_end": 34216100.300000004,
            "count": 1
           },
           {
            "bin_start": 34216100.300000004,
            "bin_end": 39103858.2,
            "count": 0
           },
           {
            "bin_start": 39103858.2,
            "bin_end": 43991616.1,
            "count": 1
           },
           {
            "bin_start": 43991616.1,
            "bin_end": 48879374,
            "count": 1
           }
          ]
         }
        },
        {
         "name": "host_id",
         "dtype": "float64",
         "stats": {
          "unique_count": 8,
          "nan_count": 0,
          "min": "1795.0",
          "max": "394260729.0",
          "histogram": [
           {
            "bin_start": 1795,
            "bin_end": 39427688.4,
            "count": 4
           },
           {
            "bin_start": 39427688.4,
            "bin_end": 78853581.8,
            "count": 1
           },
           {
            "bin_start": 78853581.8,
            "bin_end": 118279475.19999999,
            "count": 2
           },
           {
            "bin_start": 118279475.19999999,
            "bin_end": 157705368.6,
            "count": 0
           },
           {
            "bin_start": 157705368.6,
            "bin_end": 197131262,
            "count": 0
           },
           {
            "bin_start": 197131262,
            "bin_end": 236557155.39999998,
            "count": 0
           },
           {
            "bin_start": 236557155.39999998,
            "bin_end": 275983048.8,
            "count": 0
           },
           {
            "bin_start": 275983048.8,
            "bin_end": 315408942.2,
            "count": 0
           },
           {
            "bin_start": 315408942.2,
            "bin_end": 354834835.59999996,
            "count": 0
           },
           {
            "bin_start": 354834835.59999996,
            "bin_end": 394260729,
            "count": 1
           }
          ]
         }
        },
        {
         "name": "latitude",
         "dtype": "float64",
         "stats": {
          "unique_count": 8,
          "nan_count": 0,
          "min": "0.018331100308163397",
          "max": "1795.0",
          "histogram": [
           {
            "bin_start": 0.018331100308163397,
            "bin_end": 179.51649799027734,
            "count": 7
           },
           {
            "bin_start": 179.51649799027734,
            "bin_end": 359.0146648802465,
            "count": 0
           },
           {
            "bin_start": 359.0146648802465,
            "bin_end": 538.5128317702157,
            "count": 0
           },
           {
            "bin_start": 538.5128317702157,
            "bin_end": 718.0109986601849,
            "count": 0
           },
           {
            "bin_start": 718.0109986601849,
            "bin_end": 897.5091655501541,
            "count": 0
           },
           {
            "bin_start": 897.5091655501541,
            "bin_end": 1077.0073324401233,
            "count": 0
           },
           {
            "bin_start": 1077.0073324401233,
            "bin_end": 1256.5054993300926,
            "count": 0
           },
           {
            "bin_start": 1256.5054993300926,
            "bin_end": 1436.0036662200616,
            "count": 0
           },
           {
            "bin_start": 1436.0036662200616,
            "bin_end": 1615.5018331100307,
            "count": 0
           },
           {
            "bin_start": 1615.5018331100307,
            "bin_end": 1795,
            "count": 1
           }
          ]
         }
        },
        {
         "name": "longitude",
         "dtype": "float64",
         "stats": {
          "unique_count": 8,
          "nan_count": 0,
          "min": "0.022337142037136503",
          "max": "1795.0",
          "histogram": [
           {
            "bin_start": 0.022337142037136503,
            "bin_end": 179.52010342783345,
            "count": 7
           },
           {
            "bin_start": 179.52010342783345,
            "bin_end": 359.01786971362975,
            "count": 0
           },
           {
            "bin_start": 359.01786971362975,
            "bin_end": 538.5156359994261,
            "count": 0
           },
           {
            "bin_start": 538.5156359994261,
            "bin_end": 718.0134022852224,
            "count": 0
           },
           {
            "bin_start": 718.0134022852224,
            "bin_end": 897.5111685710186,
            "count": 0
           },
           {
            "bin_start": 897.5111685710186,
            "bin_end": 1077.008934856815,
            "count": 0
           },
           {
            "bin_start": 1077.008934856815,
            "bin_end": 1256.506701142611,
            "count": 0
           },
           {
            "bin_start": 1256.506701142611,
            "bin_end": 1436.0044674284075,
            "count": 0
           },
           {
            "bin_start": 1436.0044674284075,
            "bin_end": 1615.5022337142038,
            "count": 0
           },
           {
            "bin_start": 1615.5022337142038,
            "bin_end": 1795,
            "count": 1
           }
          ]
         }
        },
        {
         "name": "price",
         "dtype": "float64",
         "stats": {
          "unique_count": 8,
          "nan_count": 0,
          "min": "0.0",
          "max": "9840.0",
          "histogram": [
           {
            "bin_start": 0,
            "bin_end": 984,
            "count": 6
           },
           {
            "bin_start": 984,
            "bin_end": 1968,
            "count": 1
           },
           {
            "bin_start": 1968,
            "bin_end": 2952,
            "count": 0
           },
           {
            "bin_start": 2952,
            "bin_end": 3936,
            "count": 0
           },
           {
            "bin_start": 3936,
            "bin_end": 4920,
            "count": 0
           },
           {
            "bin_start": 4920,
            "bin_end": 5904,
            "count": 0
           },
           {
            "bin_start": 5904,
            "bin_end": 6888,
            "count": 0
           },
           {
            "bin_start": 6888,
            "bin_end": 7872,
            "count": 0
           },
           {
            "bin_start": 7872,
            "bin_end": 8856,
            "count": 0
           },
           {
            "bin_start": 8856,
            "bin_end": 9840,
            "count": 1
           }
          ]
         }
        },
        {
         "name": "minimum_nights",
         "dtype": "float64",
         "stats": {
          "unique_count": 7,
          "nan_count": 0,
          "min": "1.0",
          "max": "1795.0",
          "histogram": [
           {
            "bin_start": 1,
            "bin_end": 180.4,
            "count": 6
           },
           {
            "bin_start": 180.4,
            "bin_end": 359.8,
            "count": 0
           },
           {
            "bin_start": 359.8,
            "bin_end": 539.2,
            "count": 1
           },
           {
            "bin_start": 539.2,
            "bin_end": 718.6,
            "count": 0
           },
           {
            "bin_start": 718.6,
            "bin_end": 898,
            "count": 0
           },
           {
            "bin_start": 898,
            "bin_end": 1077.4,
            "count": 0
           },
           {
            "bin_start": 1077.4,
            "bin_end": 1256.8,
            "count": 0
           },
           {
            "bin_start": 1256.8,
            "bin_end": 1436.2,
            "count": 0
           },
           {
            "bin_start": 1436.2,
            "bin_end": 1615.6000000000001,
            "count": 0
           },
           {
            "bin_start": 1615.6000000000001,
            "bin_end": 1795,
            "count": 1
           }
          ]
         }
        },
        {
         "name": "number_of_reviews",
         "dtype": "float64",
         "stats": {
          "unique_count": 8,
          "nan_count": 0,
          "min": "0.0",
          "max": "1795.0",
          "histogram": [
           {
            "bin_start": 0,
            "bin_end": 179.5,
            "count": 6
           },
           {
            "bin_start": 179.5,
            "bin_end": 359,
            "count": 0
           },
           {
            "bin_start": 359,
            "bin_end": 538.5,
            "count": 0
           },
           {
            "bin_start": 538.5,
            "bin_end": 718,
            "count": 0
           },
           {
            "bin_start": 718,
            "bin_end": 897.5,
            "count": 1
           },
           {
            "bin_start": 897.5,
            "bin_end": 1077,
            "count": 0
           },
           {
            "bin_start": 1077,
            "bin_end": 1256.5,
            "count": 0
           },
           {
            "bin_start": 1256.5,
            "bin_end": 1436,
            "count": 0
           },
           {
            "bin_start": 1436,
            "bin_end": 1615.5,
            "count": 0
           },
           {
            "bin_start": 1615.5,
            "bin_end": 1795,
            "count": 1
           }
          ]
         }
        },
        {
         "name": "reviews_per_month",
         "dtype": "float64",
         "stats": {
          "unique_count": 8,
          "nan_count": 0,
          "min": "0.01",
          "max": "1368.0",
          "histogram": [
           {
            "bin_start": 0.01,
            "bin_end": 136.809,
            "count": 7
           },
           {
            "bin_start": 136.809,
            "bin_end": 273.608,
            "count": 0
           },
           {
            "bin_start": 273.608,
            "bin_end": 410.40700000000004,
            "count": 0
           },
           {
            "bin_start": 410.40700000000004,
            "bin_end": 547.206,
            "count": 0
           },
           {
            "bin_start": 547.206,
            "bin_end": 684.005,
            "count": 0
           },
           {
            "bin_start": 684.005,
            "bin_end": 820.8040000000001,
            "count": 0
           },
           {
            "bin_start": 820.8040000000001,
            "bin_end": 957.6030000000001,
            "count": 0
           },
           {
            "bin_start": 957.6030000000001,
            "bin_end": 1094.402,
            "count": 0
           },
           {
            "bin_start": 1094.402,
            "bin_end": 1231.201,
            "count": 0
           },
           {
            "bin_start": 1231.201,
            "bin_end": 1368,
            "count": 1
           }
          ]
         }
        },
        {
         "name": "calculated_host_listings_count",
         "dtype": "float64",
         "stats": {
          "unique_count": 7,
          "nan_count": 0,
          "min": "1.0",
          "max": "1795.0",
          "histogram": [
           {
            "bin_start": 1,
            "bin_end": 180.4,
            "count": 7
           },
           {
            "bin_start": 180.4,
            "bin_end": 359.8,
            "count": 0
           },
           {
            "bin_start": 359.8,
            "bin_end": 539.2,
            "count": 0
           },
           {
            "bin_start": 539.2,
            "bin_end": 718.6,
            "count": 0
           },
           {
            "bin_start": 718.6,
            "bin_end": 898,
            "count": 0
           },
           {
            "bin_start": 898,
            "bin_end": 1077.4,
            "count": 0
           },
           {
            "bin_start": 1077.4,
            "bin_end": 1256.8,
            "count": 0
           },
           {
            "bin_start": 1256.8,
            "bin_end": 1436.2,
            "count": 0
           },
           {
            "bin_start": 1436.2,
            "bin_end": 1615.6000000000001,
            "count": 0
           },
           {
            "bin_start": 1615.6000000000001,
            "bin_end": 1795,
            "count": 1
           }
          ]
         }
        },
        {
         "name": "availability_365",
         "dtype": "float64",
         "stats": {
          "unique_count": 8,
          "nan_count": 0,
          "min": "0.0",
          "max": "1795.0",
          "histogram": [
           {
            "bin_start": 0,
            "bin_end": 179.5,
            "count": 5
           },
           {
            "bin_start": 179.5,
            "bin_end": 359,
            "count": 1
           },
           {
            "bin_start": 359,
            "bin_end": 538.5,
            "count": 1
           },
           {
            "bin_start": 538.5,
            "bin_end": 718,
            "count": 0
           },
           {
            "bin_start": 718,
            "bin_end": 897.5,
            "count": 0
           },
           {
            "bin_start": 897.5,
            "bin_end": 1077,
            "count": 0
           },
           {
            "bin_start": 1077,
            "bin_end": 1256.5,
            "count": 0
           },
           {
            "bin_start": 1256.5,
            "bin_end": 1436,
            "count": 0
           },
           {
            "bin_start": 1436,
            "bin_end": 1615.5,
            "count": 0
           },
           {
            "bin_start": 1615.5,
            "bin_end": 1795,
            "count": 1
           }
          ]
         }
        },
        {
         "name": "_deepnote_index_column",
         "dtype": "object"
        }
       ],
       "rows_top": [
        {
         "id": 1795,
         "host_id": 1795,
         "latitude": 1795,
         "longitude": 1795,
         "price": 1795,
         "minimum_nights": 1795,
         "number_of_reviews": 1795,
         "reviews_per_month": 1368,
         "calculated_host_listings_count": 1795,
         "availability_365": 1795,
         "_deepnote_index_column": "count"
        },
        {
         "id": 28043489.250139277,
         "host_id": 77435338.23286907,
         "latitude": 47.37891741858683,
         "longitude": 8.532963722286036,
         "price": 164.43119777158773,
         "minimum_nights": 6.988857938718663,
         "number_of_reviews": 24.41058495821727,
         "reviews_per_month": 0.9189619883040935,
         "calculated_host_listings_count": 12.050696378830084,
         "availability_365": 171.27298050139277,
         "_deepnote_index_column": "mean"
        },
        {
         "id": 14863410.472827075,
         "host_id": 102500364.47819266,
         "latitude": 0.018331100308163397,
         "longitude": 0.022337142037136503,
         "price": 368.17979940441967,
         "minimum_nights": 19.892573489159552,
         "number_of_reviews": 53.84425907858973,
         "reviews_per_month": 1.4965073519997043,
         "calculated_host_listings_count": 22.614287798071505,
         "availability_365": 137.99105330157778,
         "_deepnote_index_column": "std"
        },
        {
         "id": 73282,
         "host_id": 44391,
         "latitude": 47.32603,
         "longitude": 8.4733,
         "price": 0,
         "minimum_nights": 1,
         "number_of_reviews": 0,
         "reviews_per_month": 0.01,
         "calculated_host_listings_count": 1,
         "availability_365": 0,
         "_deepnote_index_column": "min"
        },
        {
         "id": 15663551.5,
         "host_id": 12150076,
         "latitude": 47.366020000000006,
         "longitude": 8.51998,
         "price": 70,
         "minimum_nights": 1,
         "number_of_reviews": 1,
         "reviews_per_month": 0.17,
         "calculated_host_listings_count": 1,
         "availability_365": 44,
         "_deepnote_index_column": "25%"
        },
        {
         "id": 29481611,
         "host_id": 24506494,
         "latitude": 47.37636,
         "longitude": 8.53257,
         "price": 100,
         "minimum_nights": 2,
         "number_of_reviews": 5,
         "reviews_per_month": 0.43,
         "calculated_host_listings_count": 2,
         "availability_365": 149,
         "_deepnote_index_column": "50%"
        },
        {
         "id": 42215084.5,
         "host_id": 101469688,
         "latitude": 47.388745,
         "longitude": 8.548475,
         "price": 159,
         "minimum_nights": 5,
         "number_of_reviews": 22,
         "reviews_per_month": 1.09,
         "calculated_host_listings_count": 8,
         "availability_365": 319,
         "_deepnote_index_column": "75%"
        },
        {
         "id": 48879374,
         "host_id": 394260729,
         "latitude": 47.43129,
         "longitude": 8.6048,
         "price": 9840,
         "minimum_nights": 365,
         "number_of_reviews": 761,
         "reviews_per_month": 31.84,
         "calculated_host_listings_count": 80,
         "availability_365": 365,
         "_deepnote_index_column": "max"
        }
       ],
       "rows_bottom": null
      },
      "text/plain": "                 id       host_id     latitude    longitude        price  \\\ncount  1.795000e+03  1.795000e+03  1795.000000  1795.000000  1795.000000   \nmean   2.804349e+07  7.743534e+07    47.378917     8.532964   164.431198   \nstd    1.486341e+07  1.025004e+08     0.018331     0.022337   368.179799   \nmin    7.328200e+04  4.439100e+04    47.326030     8.473300     0.000000   \n25%    1.566355e+07  1.215008e+07    47.366020     8.519980    70.000000   \n50%    2.948161e+07  2.450649e+07    47.376360     8.532570   100.000000   \n75%    4.221508e+07  1.014697e+08    47.388745     8.548475   159.000000   \nmax    4.887937e+07  3.942607e+08    47.431290     8.604800  9840.000000   \n\n       minimum_nights  number_of_reviews  reviews_per_month  \\\ncount     1795.000000        1795.000000        1368.000000   \nmean         6.988858          24.410585           0.918962   \nstd         19.892573          53.844259           1.496507   \nmin          1.000000           0.000000           0.010000   \n25%          1.000000           1.000000           0.170000   \n50%          2.000000           5.000000           0.430000   \n75%          5.000000          22.000000           1.090000   \nmax        365.000000         761.000000          31.840000   \n\n       calculated_host_listings_count  availability_365  \ncount                     1795.000000       1795.000000  \nmean                        12.050696        171.272981  \nstd                         22.614288        137.991053  \nmin                          1.000000          0.000000  \n25%                          1.000000         44.000000  \n50%                          2.000000        149.000000  \n75%                          8.000000        319.000000  \nmax                         80.000000        365.000000  ",
      "text/html": "<div>\n<style scoped>\n    .dataframe tbody tr th:only-of-type {\n        vertical-align: middle;\n    }\n\n    .dataframe tbody tr th {\n        vertical-align: top;\n    }\n\n    .dataframe thead th {\n        text-align: right;\n    }\n</style>\n<table border=\"1\" class=\"dataframe\">\n  <thead>\n    <tr style=\"text-align: right;\">\n      <th></th>\n      <th>id</th>\n      <th>host_id</th>\n      <th>latitude</th>\n      <th>longitude</th>\n      <th>price</th>\n      <th>minimum_nights</th>\n      <th>number_of_reviews</th>\n      <th>reviews_per_month</th>\n      <th>calculated_host_listings_count</th>\n      <th>availability_365</th>\n    </tr>\n  </thead>\n  <tbody>\n    <tr>\n      <th>count</th>\n      <td>1.795000e+03</td>\n      <td>1.795000e+03</td>\n      <td>1795.000000</td>\n      <td>1795.000000</td>\n      <td>1795.000000</td>\n      <td>1795.000000</td>\n      <td>1795.000000</td>\n      <td>1368.000000</td>\n      <td>1795.000000</td>\n      <td>1795.000000</td>\n    </tr>\n    <tr>\n      <th>mean</th>\n      <td>2.804349e+07</td>\n      <td>7.743534e+07</td>\n      <td>47.378917</td>\n      <td>8.532964</td>\n      <td>164.431198</td>\n      <td>6.988858</td>\n      <td>24.410585</td>\n      <td>0.918962</td>\n      <td>12.050696</td>\n      <td>171.272981</td>\n    </tr>\n    <tr>\n      <th>std</th>\n      <td>1.486341e+07</td>\n      <td>1.025004e+08</td>\n      <td>0.018331</td>\n      <td>0.022337</td>\n      <td>368.179799</td>\n      <td>19.892573</td>\n      <td>53.844259</td>\n      <td>1.496507</td>\n      <td>22.614288</td>\n      <td>137.991053</td>\n    </tr>\n    <tr>\n      <th>min</th>\n      <td>7.328200e+04</td>\n      <td>4.439100e+04</td>\n      <td>47.326030</td>\n      <td>8.473300</td>\n      <td>0.000000</td>\n      <td>1.000000</td>\n      <td>0.000000</td>\n      <td>0.010000</td>\n      <td>1.000000</td>\n      <td>0.000000</td>\n    </tr>\n    <tr>\n      <th>25%</th>\n      <td>1.566355e+07</td>\n      <td>1.215008e+07</td>\n      <td>47.366020</td>\n      <td>8.519980</td>\n      <td>70.000000</td>\n      <td>1.000000</td>\n      <td>1.000000</td>\n      <td>0.170000</td>\n      <td>1.000000</td>\n      <td>44.000000</td>\n    </tr>\n    <tr>\n      <th>50%</th>\n      <td>2.948161e+07</td>\n      <td>2.450649e+07</td>\n      <td>47.376360</td>\n      <td>8.532570</td>\n      <td>100.000000</td>\n      <td>2.000000</td>\n      <td>5.000000</td>\n      <td>0.430000</td>\n      <td>2.000000</td>\n      <td>149.000000</td>\n    </tr>\n    <tr>\n      <th>75%</th>\n      <td>4.221508e+07</td>\n      <td>1.014697e+08</td>\n      <td>47.388745</td>\n      <td>8.548475</td>\n      <td>159.000000</td>\n      <td>5.000000</td>\n      <td>22.000000</td>\n      <td>1.090000</td>\n      <td>8.000000</td>\n      <td>319.000000</td>\n    </tr>\n    <tr>\n      <th>max</th>\n      <td>4.887937e+07</td>\n      <td>3.942607e+08</td>\n      <td>47.431290</td>\n      <td>8.604800</td>\n      <td>9840.000000</td>\n      <td>365.000000</td>\n      <td>761.000000</td>\n      <td>31.840000</td>\n      <td>80.000000</td>\n      <td>365.000000</td>\n    </tr>\n  </tbody>\n</table>\n</div>"
     },
     "metadata": {}
    }
   ],
   "execution_count": 6
  },
  {
   "cell_type": "markdown",
   "source": "**What can we analyze from the previous information?**",
   "metadata": {
    "tags": [],
    "cell_id": "00020-7ea5c48d-47d2-4da6-a5d6-63b038012071",
    "deepnote_cell_type": "markdown"
   }
  },
  {
   "cell_type": "markdown",
   "source": "**Answer here**",
   "metadata": {
    "tags": [],
    "cell_id": "00021-bd671b9c-dfcc-4560-8a51-d31556e7f578",
    "deepnote_cell_type": "markdown"
   }
  },
  {
   "cell_type": "markdown",
   "source": "If it is necesary, any type quantile can be found and the information can be udes for futher analysis. ",
   "metadata": {
    "tags": [],
    "cell_id": "00027-13af5099-fc22-4c58-aa59-877b70c98e79",
    "deepnote_cell_type": "markdown"
   }
  },
  {
   "cell_type": "code",
   "metadata": {
    "tags": [],
    "cell_id": "00013-18cbb6e0-1dff-42b6-b500-10fe82a0a980",
    "deepnote_to_be_reexecuted": false,
    "source_hash": "c29d8112",
    "execution_start": 1631372293393,
    "execution_millis": 56,
    "deepnote_cell_type": "code"
   },
   "source": "df.quantile([0.9])",
   "outputs": [
    {
     "output_type": "execute_result",
     "execution_count": 35,
     "data": {
      "application/vnd.deepnote.dataframe.v2+json": {
       "row_count": 1,
       "column_count": 10,
       "columns": [
        {
         "name": "id",
         "dtype": "float64",
         "stats": {
          "unique_count": 1,
          "nan_count": 0,
          "min": "46017974.4",
          "max": "46017974.4",
          "histogram": [
           {
            "bin_start": 46017973.9,
            "bin_end": 46017974,
            "count": 0
           },
           {
            "bin_start": 46017974,
            "bin_end": 46017974.1,
            "count": 0
           },
           {
            "bin_start": 46017974.1,
            "bin_end": 46017974.199999996,
            "count": 0
           },
           {
            "bin_start": 46017974.199999996,
            "bin_end": 46017974.3,
            "count": 0
           },
           {
            "bin_start": 46017974.3,
            "bin_end": 46017974.4,
            "count": 0
           },
           {
            "bin_start": 46017974.4,
            "bin_end": 46017974.5,
            "count": 1
           },
           {
            "bin_start": 46017974.5,
            "bin_end": 46017974.6,
            "count": 0
           },
           {
            "bin_start": 46017974.6,
            "bin_end": 46017974.699999996,
            "count": 0
           },
           {
            "bin_start": 46017974.699999996,
            "bin_end": 46017974.8,
            "count": 0
           },
           {
            "bin_start": 46017974.8,
            "bin_end": 46017974.9,
            "count": 0
           }
          ]
         }
        },
        {
         "name": "host_id",
         "dtype": "float64",
         "stats": {
          "unique_count": 1,
          "nan_count": 0,
          "min": "258100271.8",
          "max": "258100271.8",
          "histogram": [
           {
            "bin_start": 258100271.3,
            "bin_end": 258100271.4,
            "count": 0
           },
           {
            "bin_start": 258100271.4,
            "bin_end": 258100271.5,
            "count": 0
           },
           {
            "bin_start": 258100271.5,
            "bin_end": 258100271.60000002,
            "count": 0
           },
           {
            "bin_start": 258100271.60000002,
            "bin_end": 258100271.70000002,
            "count": 0
           },
           {
            "bin_start": 258100271.70000002,
            "bin_end": 258100271.8,
            "count": 0
           },
           {
            "bin_start": 258100271.8,
            "bin_end": 258100271.9,
            "count": 1
           },
           {
            "bin_start": 258100271.9,
            "bin_end": 258100272,
            "count": 0
           },
           {
            "bin_start": 258100272,
            "bin_end": 258100272.10000002,
            "count": 0
           },
           {
            "bin_start": 258100272.10000002,
            "bin_end": 258100272.20000002,
            "count": 0
           },
           {
            "bin_start": 258100272.20000002,
            "bin_end": 258100272.3,
            "count": 0
           }
          ]
         }
        },
        {
         "name": "latitude",
         "dtype": "float64",
         "stats": {
          "unique_count": 1,
          "nan_count": 0,
          "min": "47.40802",
          "max": "47.40802",
          "histogram": [
           {
            "bin_start": 46.90802,
            "bin_end": 47.00802,
            "count": 0
           },
           {
            "bin_start": 47.00802,
            "bin_end": 47.10802,
            "count": 0
           },
           {
            "bin_start": 47.10802,
            "bin_end": 47.20802,
            "count": 0
           },
           {
            "bin_start": 47.20802,
            "bin_end": 47.30802,
            "count": 0
           },
           {
            "bin_start": 47.30802,
            "bin_end": 47.40802,
            "count": 0
           },
           {
            "bin_start": 47.40802,
            "bin_end": 47.50802,
            "count": 1
           },
           {
            "bin_start": 47.50802,
            "bin_end": 47.60802,
            "count": 0
           },
           {
            "bin_start": 47.60802,
            "bin_end": 47.70802,
            "count": 0
           },
           {
            "bin_start": 47.70802,
            "bin_end": 47.80802,
            "count": 0
           },
           {
            "bin_start": 47.80802,
            "bin_end": 47.90802,
            "count": 0
           }
          ]
         }
        },
        {
         "name": "longitude",
         "dtype": "float64",
         "stats": {
          "unique_count": 1,
          "nan_count": 0,
          "min": "8.557748",
          "max": "8.557748",
          "histogram": [
           {
            "bin_start": 8.057748,
            "bin_end": 8.157748,
            "count": 0
           },
           {
            "bin_start": 8.157748,
            "bin_end": 8.257748,
            "count": 0
           },
           {
            "bin_start": 8.257748,
            "bin_end": 8.357748,
            "count": 0
           },
           {
            "bin_start": 8.357748,
            "bin_end": 8.457748,
            "count": 0
           },
           {
            "bin_start": 8.457748,
            "bin_end": 8.557748,
            "count": 0
           },
           {
            "bin_start": 8.557748,
            "bin_end": 8.657748,
            "count": 1
           },
           {
            "bin_start": 8.657748,
            "bin_end": 8.757748,
            "count": 0
           },
           {
            "bin_start": 8.757748,
            "bin_end": 8.857748,
            "count": 0
           },
           {
            "bin_start": 8.857748,
            "bin_end": 8.957748,
            "count": 0
           },
           {
            "bin_start": 8.957748,
            "bin_end": 9.057748,
            "count": 0
           }
          ]
         }
        },
        {
         "name": "price",
         "dtype": "float64",
         "stats": {
          "unique_count": 1,
          "nan_count": 0,
          "min": "300.0",
          "max": "300.0",
          "histogram": [
           {
            "bin_start": 299.5,
            "bin_end": 299.6,
            "count": 0
           },
           {
            "bin_start": 299.6,
            "bin_end": 299.7,
            "count": 0
           },
           {
            "bin_start": 299.7,
            "bin_end": 299.8,
            "count": 0
           },
           {
            "bin_start": 299.8,
            "bin_end": 299.9,
            "count": 0
           },
           {
            "bin_start": 299.9,
            "bin_end": 300,
            "count": 0
           },
           {
            "bin_start": 300,
            "bin_end": 300.1,
            "count": 1
           },
           {
            "bin_start": 300.1,
            "bin_end": 300.2,
            "count": 0
           },
           {
            "bin_start": 300.2,
            "bin_end": 300.3,
            "count": 0
           },
           {
            "bin_start": 300.3,
            "bin_end": 300.4,
            "count": 0
           },
           {
            "bin_start": 300.4,
            "bin_end": 300.5,
            "count": 0
           }
          ]
         }
        },
        {
         "name": "minimum_nights",
         "dtype": "float64",
         "stats": {
          "unique_count": 1,
          "nan_count": 0,
          "min": "14.0",
          "max": "14.0",
          "histogram": [
           {
            "bin_start": 13.5,
            "bin_end": 13.6,
            "count": 0
           },
           {
            "bin_start": 13.6,
            "bin_end": 13.7,
            "count": 0
           },
           {
            "bin_start": 13.7,
            "bin_end": 13.8,
            "count": 0
           },
           {
            "bin_start": 13.8,
            "bin_end": 13.9,
            "count": 0
           },
           {
            "bin_start": 13.9,
            "bin_end": 14,
            "count": 0
           },
           {
            "bin_start": 14,
            "bin_end": 14.1,
            "count": 1
           },
           {
            "bin_start": 14.1,
            "bin_end": 14.2,
            "count": 0
           },
           {
            "bin_start": 14.2,
            "bin_end": 14.3,
            "count": 0
           },
           {
            "bin_start": 14.3,
            "bin_end": 14.4,
            "count": 0
           },
           {
            "bin_start": 14.4,
            "bin_end": 14.5,
            "count": 0
           }
          ]
         }
        },
        {
         "name": "number_of_reviews",
         "dtype": "float64",
         "stats": {
          "unique_count": 1,
          "nan_count": 0,
          "min": "72.0",
          "max": "72.0",
          "histogram": [
           {
            "bin_start": 71.5,
            "bin_end": 71.6,
            "count": 0
           },
           {
            "bin_start": 71.6,
            "bin_end": 71.7,
            "count": 0
           },
           {
            "bin_start": 71.7,
            "bin_end": 71.8,
            "count": 0
           },
           {
            "bin_start": 71.8,
            "bin_end": 71.9,
            "count": 0
           },
           {
            "bin_start": 71.9,
            "bin_end": 72,
            "count": 0
           },
           {
            "bin_start": 72,
            "bin_end": 72.1,
            "count": 1
           },
           {
            "bin_start": 72.1,
            "bin_end": 72.2,
            "count": 0
           },
           {
            "bin_start": 72.2,
            "bin_end": 72.3,
            "count": 0
           },
           {
            "bin_start": 72.3,
            "bin_end": 72.4,
            "count": 0
           },
           {
            "bin_start": 72.4,
            "bin_end": 72.5,
            "count": 0
           }
          ]
         }
        },
        {
         "name": "reviews_per_month",
         "dtype": "float64",
         "stats": {
          "unique_count": 1,
          "nan_count": 0,
          "min": "2.35",
          "max": "2.35",
          "histogram": [
           {
            "bin_start": 1.85,
            "bin_end": 1.9500000000000002,
            "count": 0
           },
           {
            "bin_start": 1.9500000000000002,
            "bin_end": 2.0500000000000003,
            "count": 0
           },
           {
            "bin_start": 2.0500000000000003,
            "bin_end": 2.1500000000000004,
            "count": 0
           },
           {
            "bin_start": 2.1500000000000004,
            "bin_end": 2.25,
            "count": 0
           },
           {
            "bin_start": 2.25,
            "bin_end": 2.35,
            "count": 0
           },
           {
            "bin_start": 2.35,
            "bin_end": 2.45,
            "count": 1
           },
           {
            "bin_start": 2.45,
            "bin_end": 2.5500000000000003,
            "count": 0
           },
           {
            "bin_start": 2.5500000000000003,
            "bin_end": 2.6500000000000004,
            "count": 0
           },
           {
            "bin_start": 2.6500000000000004,
            "bin_end": 2.75,
            "count": 0
           },
           {
            "bin_start": 2.75,
            "bin_end": 2.85,
            "count": 0
           }
          ]
         }
        },
        {
         "name": "calculated_host_listings_count",
         "dtype": "float64",
         "stats": {
          "unique_count": 1,
          "nan_count": 0,
          "min": "40.0",
          "max": "40.0",
          "histogram": [
           {
            "bin_start": 39.5,
            "bin_end": 39.6,
            "count": 0
           },
           {
            "bin_start": 39.6,
            "bin_end": 39.7,
            "count": 0
           },
           {
            "bin_start": 39.7,
            "bin_end": 39.8,
            "count": 0
           },
           {
            "bin_start": 39.8,
            "bin_end": 39.9,
            "count": 0
           },
           {
            "bin_start": 39.9,
            "bin_end": 40,
            "count": 0
           },
           {
            "bin_start": 40,
            "bin_end": 40.1,
            "count": 1
           },
           {
            "bin_start": 40.1,
            "bin_end": 40.2,
            "count": 0
           },
           {
            "bin_start": 40.2,
            "bin_end": 40.3,
            "count": 0
           },
           {
            "bin_start": 40.3,
            "bin_end": 40.4,
            "count": 0
           },
           {
            "bin_start": 40.4,
            "bin_end": 40.5,
            "count": 0
           }
          ]
         }
        },
        {
         "name": "availability_365",
         "dtype": "float64",
         "stats": {
          "unique_count": 1,
          "nan_count": 0,
          "min": "364.0",
          "max": "364.0",
          "histogram": [
           {
            "bin_start": 363.5,
            "bin_end": 363.6,
            "count": 0
           },
           {
            "bin_start": 363.6,
            "bin_end": 363.7,
            "count": 0
           },
           {
            "bin_start": 363.7,
            "bin_end": 363.8,
            "count": 0
           },
           {
            "bin_start": 363.8,
            "bin_end": 363.9,
            "count": 0
           },
           {
            "bin_start": 363.9,
            "bin_end": 364,
            "count": 0
           },
           {
            "bin_start": 364,
            "bin_end": 364.1,
            "count": 1
           },
           {
            "bin_start": 364.1,
            "bin_end": 364.2,
            "count": 0
           },
           {
            "bin_start": 364.2,
            "bin_end": 364.3,
            "count": 0
           },
           {
            "bin_start": 364.3,
            "bin_end": 364.4,
            "count": 0
           },
           {
            "bin_start": 364.4,
            "bin_end": 364.5,
            "count": 0
           }
          ]
         }
        },
        {
         "name": "_deepnote_index_column",
         "dtype": "float64"
        }
       ],
       "rows_top": [
        {
         "id": 46017974.4,
         "host_id": 258100271.8,
         "latitude": 47.40802,
         "longitude": 8.557748,
         "price": 300,
         "minimum_nights": 14,
         "number_of_reviews": 72,
         "reviews_per_month": 2.35,
         "calculated_host_listings_count": 40,
         "availability_365": 364,
         "_deepnote_index_column": 0.9
        }
       ],
       "rows_bottom": null
      },
      "text/plain": "             id      host_id  latitude  longitude  price  minimum_nights  \\\n0.9  46017974.4  258100271.8  47.40802   8.557748  300.0            14.0   \n\n     number_of_reviews  reviews_per_month  calculated_host_listings_count  \\\n0.9               72.0               2.35                            40.0   \n\n     availability_365  \n0.9             364.0  ",
      "text/html": "<div>\n<style scoped>\n    .dataframe tbody tr th:only-of-type {\n        vertical-align: middle;\n    }\n\n    .dataframe tbody tr th {\n        vertical-align: top;\n    }\n\n    .dataframe thead th {\n        text-align: right;\n    }\n</style>\n<table border=\"1\" class=\"dataframe\">\n  <thead>\n    <tr style=\"text-align: right;\">\n      <th></th>\n      <th>id</th>\n      <th>host_id</th>\n      <th>latitude</th>\n      <th>longitude</th>\n      <th>price</th>\n      <th>minimum_nights</th>\n      <th>number_of_reviews</th>\n      <th>reviews_per_month</th>\n      <th>calculated_host_listings_count</th>\n      <th>availability_365</th>\n    </tr>\n  </thead>\n  <tbody>\n    <tr>\n      <th>0.9</th>\n      <td>46017974.4</td>\n      <td>258100271.8</td>\n      <td>47.40802</td>\n      <td>8.557748</td>\n      <td>300.0</td>\n      <td>14.0</td>\n      <td>72.0</td>\n      <td>2.35</td>\n      <td>40.0</td>\n      <td>364.0</td>\n    </tr>\n  </tbody>\n</table>\n</div>"
     },
     "metadata": {}
    }
   ],
   "execution_count": 35
  },
  {
   "cell_type": "markdown",
   "source": "**What can we analyze from the previous information?**",
   "metadata": {
    "tags": [],
    "cell_id": "00022-3e2f169a-0ac2-49cb-b907-e2e41a55e81d",
    "deepnote_cell_type": "markdown"
   }
  },
  {
   "cell_type": "markdown",
   "source": "**Answer here**",
   "metadata": {
    "tags": [],
    "cell_id": "00024-88fa17b3-b958-439c-9ab4-4e60581ac36b",
    "deepnote_cell_type": "markdown"
   }
  },
  {
   "cell_type": "markdown",
   "source": "## Exploration of Single Features or Variables",
   "metadata": {
    "tags": [],
    "cell_id": "00014-a1fbee02-a3b0-4e2c-837b-3071c4a4e81f",
    "is_collapsed": false,
    "deepnote_cell_type": "text-cell-h2"
   }
  },
  {
   "cell_type": "markdown",
   "source": "But not all the exploration and understanting has to be cuantitative or based on numbers. There are some visualizations that can be used to acquire a better understanting of data such as heatmap, histograms and barplots. ",
   "metadata": {
    "tags": [],
    "cell_id": "00032-800627b9-7a65-41ee-85ea-1dc4c7a14302",
    "deepnote_cell_type": "markdown"
   }
  },
  {
   "cell_type": "markdown",
   "source": "### Missing Data Exploration",
   "metadata": {
    "tags": [],
    "cell_id": "00013-886e0b97-2207-49db-b5ff-095a9f8d2f4f",
    "is_collapsed": false,
    "deepnote_cell_type": "text-cell-h3"
   }
  },
  {
   "cell_type": "markdown",
   "source": "By using [heatmap](https://seaborn.pydata.org/generated/seaborn.heatmap.html) on the seaborn package, a plot can be made in order to visualize the missing values. This will allow us to find which columns have missing numbers and which ones have the biggest amount of missing numbers   ",
   "metadata": {
    "tags": [],
    "cell_id": "00034-3cb170d0-4df0-4d99-8f3c-b2aa0004f0f3",
    "deepnote_cell_type": "markdown"
   }
  },
  {
   "cell_type": "code",
   "metadata": {
    "tags": [],
    "cell_id": "00014-d5f42165-a7a1-4919-b9ab-e5d9fb419a8a",
    "deepnote_to_be_reexecuted": false,
    "source_hash": "e1c5bcd6",
    "execution_start": 1631372324516,
    "execution_millis": 1264,
    "deepnote_cell_type": "code"
   },
   "source": "fig = plt.figure(figsize=(15,8))\nfig = sns.heatmap(df.isna())",
   "outputs": [
    {
     "data": {
      "text/plain": "<Figure size 1080x576 with 2 Axes>",
      "image/png": "[encoded data removed]"
     },
     "metadata": {
      "needs_background": "light",
      "image/png": {
       "width": 802,
       "height": 613
      }
     },
     "output_type": "display_data"
    }
   ],
   "execution_count": 37
  },
  {
   "cell_type": "markdown",
   "source": "**What can we analyze from the previous information?**",
   "metadata": {
    "tags": [],
    "cell_id": "00026-257d8b89-fe77-4bfc-8a1c-6f65453d7b23",
    "deepnote_cell_type": "markdown"
   }
  },
  {
   "cell_type": "markdown",
   "source": "**Answer here**",
   "metadata": {
    "tags": [],
    "cell_id": "00029-cca94006-2c06-40b4-8f06-f64f68444cc4",
    "deepnote_cell_type": "markdown"
   }
  },
  {
   "cell_type": "markdown",
   "source": "### Numerical Values - Histograms",
   "metadata": {
    "tags": [],
    "cell_id": "00031-d1cb3a2d-ce2e-4aa4-a4fb-52198db46213",
    "is_collapsed": false,
    "deepnote_cell_type": "text-cell-h3"
   }
  },
  {
   "cell_type": "markdown",
   "source": "Previously we had been able to have a brief look at the skewness of the data. A histogram plot will allow us to see it much better. \nWe can take each one of the columns that contain numbers and look it's distribution",
   "metadata": {
    "tags": [],
    "cell_id": "00039-86c0c088-4762-49e4-aa87-1a876798e8ae",
    "deepnote_cell_type": "markdown"
   }
  },
  {
   "cell_type": "code",
   "metadata": {
    "tags": [],
    "cell_id": "00017-9434e558-bde2-4199-a697-091462c4b728",
    "deepnote_to_be_reexecuted": false,
    "source_hash": "c7942559",
    "execution_start": 1631372263847,
    "execution_millis": 1806,
    "deepnote_cell_type": "code"
   },
   "source": "sns.histplot(df[['price']])\nplt.title('Histogram of Price')\n# plt.xlim(left = 0, right=700) We can set a limit for the axes in order to zoom on several behaiviours",
   "outputs": [
    {
     "output_type": "execute_result",
     "execution_count": 9,
     "data": {
      "text/plain": "Text(0.5, 1.0, 'Histogram of Price')"
     },
     "metadata": {}
    },
    {
     "data": {
      "text/plain": "<Figure size 432x288 with 1 Axes>",
      "image/png": "[encoded data removed]"
     },
     "metadata": {
      "needs_background": "light",
      "image/png": {
       "width": 394,
       "height": 264
      }
     },
     "output_type": "display_data"
    }
   ],
   "execution_count": 9
  },
  {
   "cell_type": "markdown",
   "source": "**What can we analyze from the previous information?**",
   "metadata": {
    "tags": [],
    "cell_id": "00029-12a236a2-5cd9-4bdb-9011-d8fe995ee51f",
    "deepnote_cell_type": "markdown"
   }
  },
  {
   "cell_type": "markdown",
   "source": "**Answer here**",
   "metadata": {
    "tags": [],
    "cell_id": "00033-71dbfb39-5959-48db-8d41-fe13c32ebeaf",
    "deepnote_cell_type": "markdown"
   }
  },
  {
   "cell_type": "code",
   "metadata": {
    "tags": [],
    "cell_id": "00019-baf083bf-c0e5-4e35-b378-2c7949b5ab91",
    "deepnote_to_be_reexecuted": false,
    "source_hash": "86db567a",
    "execution_start": 1631372265661,
    "execution_millis": 1482,
    "deepnote_cell_type": "code"
   },
   "source": "sns.histplot(df[['minimum_nights']])\nplt.title('Histogram of minumum amount of Nights')\n# plt.xlim(left = 0, right=700)",
   "outputs": [
    {
     "output_type": "execute_result",
     "execution_count": 10,
     "data": {
      "text/plain": "Text(0.5, 1.0, 'Histogram of minumum amount of Nights')"
     },
     "metadata": {}
    },
    {
     "data": {
      "text/plain": "<Figure size 432x288 with 1 Axes>",
      "image/png": "[encoded data removed]"
     },
     "metadata": {
      "needs_background": "light",
      "image/png": {
       "width": 389,
       "height": 264
      }
     },
     "output_type": "display_data"
    }
   ],
   "execution_count": 10
  },
  {
   "cell_type": "markdown",
   "source": "**What can we analyze from the previous information?**",
   "metadata": {
    "tags": [],
    "cell_id": "00032-fc261690-125f-46da-bee7-4f0817bbeba0",
    "deepnote_cell_type": "markdown"
   }
  },
  {
   "cell_type": "markdown",
   "source": "**Answer here**",
   "metadata": {
    "tags": [],
    "cell_id": "00037-44c27828-1fb6-4089-9571-ee00824dbd2d",
    "deepnote_cell_type": "markdown"
   }
  },
  {
   "cell_type": "code",
   "metadata": {
    "tags": [],
    "cell_id": "00020-b7c7839b-cabe-426f-88b6-041bfb0f1da1",
    "deepnote_to_be_reexecuted": false,
    "source_hash": "f0e088fc",
    "execution_start": 1631372267144,
    "execution_millis": 331,
    "deepnote_cell_type": "code"
   },
   "source": "sns.histplot(df[['latitude']])\nplt.title('Histogram of Latitude')\n# plt.xlim(left = 0, right=700)",
   "outputs": [
    {
     "output_type": "execute_result",
     "execution_count": 11,
     "data": {
      "text/plain": "Text(0.5, 1.0, 'Histogram of Latitude')"
     },
     "metadata": {}
    },
    {
     "data": {
      "text/plain": "<Figure size 432x288 with 1 Axes>",
      "image/png": "[encoded data removed]"
     },
     "metadata": {
      "needs_background": "light",
      "image/png": {
       "width": 389,
       "height": 264
      }
     },
     "output_type": "display_data"
    }
   ],
   "execution_count": 11
  },
  {
   "cell_type": "markdown",
   "source": "**What can we analyze from the previous information?**",
   "metadata": {
    "tags": [],
    "cell_id": "00034-cf2f2a84-b244-40f5-906a-2e5d49646d1b",
    "deepnote_cell_type": "markdown"
   }
  },
  {
   "cell_type": "markdown",
   "source": "**Answer here**",
   "metadata": {
    "tags": [],
    "cell_id": "00040-2a44240a-7bcc-4393-bdf9-d8c965c07a8a",
    "deepnote_cell_type": "markdown"
   }
  },
  {
   "cell_type": "code",
   "metadata": {
    "tags": [],
    "cell_id": "00041-3dd8af1a-0e4d-4093-a96d-13651e2b565a",
    "deepnote_to_be_reexecuted": false,
    "source_hash": "25e1feac",
    "execution_start": 1631372267485,
    "execution_millis": 325,
    "deepnote_cell_type": "code"
   },
   "source": "sns.histplot(df[['longitude']])\nplt.title('Histogram of Longitude')\n# plt.xlim(left = 0, right=700)",
   "outputs": [
    {
     "output_type": "execute_result",
     "execution_count": 12,
     "data": {
      "text/plain": "Text(0.5, 1.0, 'Histogram of Longitude')"
     },
     "metadata": {}
    },
    {
     "data": {
      "text/plain": "<Figure size 432x288 with 1 Axes>",
      "image/png": "[encoded data removed]"
     },
     "metadata": {
      "needs_background": "light",
      "image/png": {
       "width": 389,
       "height": 264
      }
     },
     "output_type": "display_data"
    }
   ],
   "execution_count": 12
  },
  {
   "cell_type": "markdown",
   "source": "**What can we analyze from the previous information?**",
   "metadata": {
    "tags": [],
    "cell_id": "00042-44d14aa1-4b3e-4660-a88d-4c8c59736344",
    "deepnote_cell_type": "markdown"
   }
  },
  {
   "cell_type": "markdown",
   "source": "**Answer here**",
   "metadata": {
    "tags": [],
    "cell_id": "00043-a2602cc3-48b5-4e6f-9d49-a80c739eb560",
    "deepnote_cell_type": "markdown"
   }
  },
  {
   "cell_type": "code",
   "metadata": {
    "tags": [],
    "cell_id": "00044-5f59c4c3-bf75-43d1-89ad-dfde4c5639cd",
    "deepnote_to_be_reexecuted": false,
    "source_hash": "46baa497",
    "execution_start": 1631372267812,
    "execution_millis": 857,
    "deepnote_cell_type": "code"
   },
   "source": "sns.histplot(df[['number_of_reviews']])\nplt.title('Histogram of the total number of reviews by listing')\n# plt.xlim(left = 0, right=700)",
   "outputs": [
    {
     "output_type": "execute_result",
     "execution_count": 13,
     "data": {
      "text/plain": "Text(0.5, 1.0, 'Histogram of the total number of reviews by listing')"
     },
     "metadata": {}
    },
    {
     "data": {
      "text/plain": "<Figure size 432x288 with 1 Axes>",
      "image/png": "[encoded data removed]"
     },
     "metadata": {
      "needs_background": "light",
      "image/png": {
       "width": 389,
       "height": 264
      }
     },
     "output_type": "display_data"
    }
   ],
   "execution_count": 13
  },
  {
   "cell_type": "markdown",
   "source": "**What can we analyze from the previous information?**",
   "metadata": {
    "tags": [],
    "cell_id": "00045-199c5519-41e0-4207-944e-42d664780eef",
    "deepnote_cell_type": "markdown"
   }
  },
  {
   "cell_type": "markdown",
   "source": "**Answer here**",
   "metadata": {
    "tags": [],
    "cell_id": "00046-b163b622-11df-4efe-b752-0d5ddc623d31",
    "deepnote_cell_type": "markdown"
   }
  },
  {
   "cell_type": "code",
   "metadata": {
    "tags": [],
    "cell_id": "00047-b710a7df-2253-4166-9ebf-74ebf3289166",
    "deepnote_to_be_reexecuted": false,
    "source_hash": "7c636b94",
    "execution_start": 1631372268718,
    "execution_millis": 594,
    "deepnote_cell_type": "code"
   },
   "source": "sns.histplot(df[['reviews_per_month']])\nplt.title('Histogram of the number of reviews per month by listing')\n# plt.xlim(left = 0, right=700)",
   "outputs": [
    {
     "output_type": "execute_result",
     "execution_count": 14,
     "data": {
      "text/plain": "Text(0.5, 1.0, 'Histogram of the number of reviews per month by listing')"
     },
     "metadata": {}
    },
    {
     "data": {
      "text/plain": "<Figure size 432x288 with 1 Axes>",
      "image/png": "[encoded data removed]"
     },
     "metadata": {
      "needs_background": "light",
      "image/png": {
       "width": 393,
       "height": 264
      }
     },
     "output_type": "display_data"
    }
   ],
   "execution_count": 14
  },
  {
   "cell_type": "markdown",
   "source": "**What can we analyze from the previous information?**",
   "metadata": {
    "tags": [],
    "cell_id": "00048-8bd50313-e11b-4665-b879-d64708399684",
    "deepnote_cell_type": "markdown"
   }
  },
  {
   "cell_type": "markdown",
   "source": "**Answer here**",
   "metadata": {
    "tags": [],
    "cell_id": "00049-d1e782e7-ffa5-4381-9a84-a6bf32c506f3",
    "deepnote_cell_type": "markdown"
   }
  },
  {
   "cell_type": "code",
   "metadata": {
    "tags": [],
    "cell_id": "00048-735846c5-2d17-4696-9deb-eb92f3c97731",
    "deepnote_to_be_reexecuted": false,
    "source_hash": "ae94c21e",
    "execution_start": 1631372269321,
    "execution_millis": 426,
    "deepnote_cell_type": "code"
   },
   "source": "sns.histplot(df[['calculated_host_listings_count']])\nplt.title('Histogram of the number of rooms the host is offering in this location')\n# plt.xlim(left = 0, right=700)",
   "outputs": [
    {
     "output_type": "execute_result",
     "execution_count": 15,
     "data": {
      "text/plain": "Text(0.5, 1.0, 'Histogram of the number of rooms the host is offering in this location')"
     },
     "metadata": {}
    },
    {
     "data": {
      "text/plain": "<Figure size 432x288 with 1 Axes>",
      "image/png": "[encoded data removed]"
     },
     "metadata": {
      "needs_background": "light",
      "image/png": {
       "width": 437,
       "height": 264
      }
     },
     "output_type": "display_data"
    }
   ],
   "execution_count": 15
  },
  {
   "cell_type": "markdown",
   "source": "**What can we analyze from the previous information?**",
   "metadata": {
    "tags": [],
    "cell_id": "00050-a9008093-3faf-46a9-b230-cd4c6fd288ef",
    "deepnote_cell_type": "markdown"
   }
  },
  {
   "cell_type": "markdown",
   "source": "**Answer here**",
   "metadata": {
    "tags": [],
    "cell_id": "00052-12b5d9e2-e7ef-4689-89a3-5af26cd627dc",
    "deepnote_cell_type": "markdown"
   }
  },
  {
   "cell_type": "code",
   "metadata": {
    "tags": [],
    "cell_id": "00054-c813167c-281f-4787-8c95-2116caa746d9",
    "deepnote_to_be_reexecuted": false,
    "source_hash": "40e406cd",
    "execution_start": 1631372269749,
    "execution_millis": 456,
    "deepnote_cell_type": "code"
   },
   "source": "sns.histplot(df[['availability_365']])\nplt.title('Histogram of the amount of days that the listing if available in the future')\n# plt.xlim(left = 0, right=700)",
   "outputs": [
    {
     "output_type": "execute_result",
     "execution_count": 16,
     "data": {
      "text/plain": "Text(0.5, 1.0, 'Histogram of the amount of days that the listing if available in the future')"
     },
     "metadata": {}
    },
    {
     "data": {
      "text/plain": "<Figure size 432x288 with 1 Axes>",
      "image/png": "[encoded data removed]"
     },
     "metadata": {
      "needs_background": "light",
      "image/png": {
       "width": 455,
       "height": 264
      }
     },
     "output_type": "display_data"
    }
   ],
   "execution_count": 16
  },
  {
   "cell_type": "markdown",
   "source": "**What can we analyze from the previous information?**",
   "metadata": {
    "tags": [],
    "cell_id": "00051-6d36e574-6bbe-4fc8-b0c7-d41f36a53639",
    "deepnote_cell_type": "markdown"
   }
  },
  {
   "cell_type": "markdown",
   "source": "**Answer here**",
   "metadata": {
    "tags": [],
    "cell_id": "00052-023f3573-abd2-4920-94a4-5abc8ee3733a",
    "deepnote_cell_type": "markdown"
   }
  },
  {
   "cell_type": "markdown",
   "source": "### Text Values - WordCloud",
   "metadata": {
    "tags": [],
    "cell_id": "00064-ff439fe5-0d86-4c76-ab3f-aa4f0417c4fc",
    "is_collapsed": false,
    "deepnote_cell_type": "text-cell-h3"
   }
  },
  {
   "cell_type": "markdown",
   "source": "If the data is we want to look at is plain text wit no specific structure, such as product reviews or comments, a good way to start to understand it is by looking at a [wordcloud](https://github.com/amueller/word_cloud) of the data, where the most common worlds are highlighted.\nA further analysis will require techniques refering to the use Natural Language Processing (NLP) such as regular expressions [(regex)](https://docs.python.org/3/library/re.html), [NLTK](https://www.nltk.org) or [spaCy](https://spacy.io) that we do not cover on this class ",
   "metadata": {
    "tags": [],
    "cell_id": "00065-cecd00bf-4560-4f12-b029-1090190242f6",
    "deepnote_cell_type": "markdown"
   }
  },
  {
   "cell_type": "code",
   "metadata": {
    "tags": [],
    "cell_id": "00058-695e09d5-009b-4805-9e28-a3906705338d",
    "deepnote_to_be_reexecuted": false,
    "source_hash": "73c7b86c",
    "execution_start": 1631372270171,
    "execution_millis": 428,
    "deepnote_cell_type": "code"
   },
   "source": "text = \" \".join(group for group in df['name'].astype('str'))\n\n# Create and generate a word cloud image:\n\nwordcloud = WordCloud(max_font_size=50, max_words=100, background_color=\"white\").generate(text)\n\n# Display the generated image:\n\nplt.imshow(wordcloud, interpolation='bilinear')\nplt.rcParams[\"figure.figsize\"] = (10,10)\nplt.axis(\"off\")\nplt.show()",
   "outputs": [
    {
     "data": {
      "text/plain": "<Figure size 432x288 with 1 Axes>",
      "image/png": "[encoded data removed]"
     },
     "metadata": {
      "needs_background": "light",
      "image/png": {
       "width": 349,
       "height": 181
      }
     },
     "output_type": "display_data"
    }
   ],
   "execution_count": 17
  },
  {
   "cell_type": "markdown",
   "source": "**What can we analyze from the previous information?**",
   "metadata": {
    "tags": [],
    "cell_id": "00060-f20c442d-3d83-4357-806f-a26dcfda955e",
    "deepnote_cell_type": "markdown"
   }
  },
  {
   "cell_type": "markdown",
   "source": "**Answer here**",
   "metadata": {
    "tags": [],
    "cell_id": "00061-69e8babb-344a-4e24-a87b-13dc84195e0c",
    "deepnote_cell_type": "markdown"
   }
  },
  {
   "cell_type": "markdown",
   "source": "### Categorical Data - Manipulation and Visualization (Barplot)",
   "metadata": {
    "tags": [],
    "cell_id": "00061-435df921-279b-4e74-ad7b-32c857ca7e31",
    "is_collapsed": false,
    "deepnote_cell_type": "text-cell-h3"
   }
  },
  {
   "cell_type": "markdown",
   "source": "When the data that we have is plain text, but it refers to different categories or descriptions that are repited several times on the column, we can define them as categorical values by setting the DataFrame column as categories ",
   "metadata": {
    "tags": [],
    "cell_id": "00071-646827ce-1cbd-4935-87cf-1169626841e7",
    "deepnote_cell_type": "markdown"
   }
  },
  {
   "cell_type": "markdown",
   "source": "For example, in the column Neighborhood_group, we can see that it can take only 12 different values and it classifies the listing in a specific geographical location. ",
   "metadata": {
    "tags": [],
    "cell_id": "00062-6e8b74a0-e31e-4833-b869-3ca93060d27c",
    "deepnote_cell_type": "markdown"
   }
  },
  {
   "cell_type": "code",
   "metadata": {
    "tags": [],
    "cell_id": "00062-8e506966-8156-4e57-8f4b-3a9175f59fc0",
    "deepnote_to_be_reexecuted": false,
    "source_hash": "b655ff33",
    "execution_start": 1631372270533,
    "execution_millis": 66,
    "deepnote_cell_type": "code"
   },
   "source": "df['neighbourhood_group'].unique()",
   "outputs": [
    {
     "output_type": "execute_result",
     "execution_count": 18,
     "data": {
      "text/plain": "array(['Kreis 3', 'Kreis 2', 'Kreis 10', 'Kreis 5', 'Kreis 1', 'Kreis 9',\n       'Kreis 7', 'Kreis 11', 'Kreis 4', 'Kreis 8', 'Kreis 6', 'Kreis 12'],\n      dtype=object)"
     },
     "metadata": {}
    }
   ],
   "execution_count": 18
  },
  {
   "cell_type": "markdown",
   "source": "We can see that each value is a string",
   "metadata": {
    "tags": [],
    "cell_id": "00073-540d4a91-fc17-466d-ab92-7e1d333e88bb",
    "deepnote_cell_type": "markdown"
   }
  },
  {
   "cell_type": "code",
   "metadata": {
    "tags": [],
    "cell_id": "00063-6787bb06-bcef-4bac-9c11-6a49634caba9",
    "deepnote_to_be_reexecuted": false,
    "source_hash": "211486eb",
    "execution_start": 1631372270544,
    "execution_millis": 0,
    "deepnote_cell_type": "code"
   },
   "source": "type(df['neighbourhood_group'][1])",
   "outputs": [
    {
     "output_type": "execute_result",
     "execution_count": 19,
     "data": {
      "text/plain": "str"
     },
     "metadata": {}
    }
   ],
   "execution_count": 19
  },
  {
   "cell_type": "markdown",
   "source": "All we have to do is to define the column as a category type column and we can see that the uniques values are converted into categories",
   "metadata": {
    "tags": [],
    "cell_id": "00075-3db802b3-729b-456f-b927-4f8b555847ff",
    "deepnote_cell_type": "markdown"
   }
  },
  {
   "cell_type": "code",
   "metadata": {
    "tags": [],
    "cell_id": "00062-94f4c0d1-cdd0-4206-8aab-7be0293f5b91",
    "deepnote_to_be_reexecuted": false,
    "source_hash": "51b7539c",
    "execution_start": 1631372270557,
    "execution_millis": 11,
    "deepnote_cell_type": "code"
   },
   "source": "df['neighbourhood_group'] = df['neighbourhood_group'].astype('category')",
   "outputs": [],
   "execution_count": 20
  },
  {
   "cell_type": "code",
   "metadata": {
    "tags": [],
    "cell_id": "00065-b965f911-ad10-44d6-b2a7-6f93314f1ed9",
    "deepnote_to_be_reexecuted": false,
    "source_hash": "d734285f",
    "execution_start": 1631372270559,
    "execution_millis": 0,
    "deepnote_cell_type": "code"
   },
   "source": "df['neighbourhood_group'].cat.categories",
   "outputs": [
    {
     "output_type": "execute_result",
     "execution_count": 21,
     "data": {
      "text/plain": "Index(['Kreis 1', 'Kreis 10', 'Kreis 11', 'Kreis 12', 'Kreis 2', 'Kreis 3',\n       'Kreis 4', 'Kreis 5', 'Kreis 6', 'Kreis 7', 'Kreis 8', 'Kreis 9'],\n      dtype='object')"
     },
     "metadata": {}
    }
   ],
   "execution_count": 21
  },
  {
   "cell_type": "markdown",
   "source": "It can also be seen in the pd.info() method",
   "metadata": {
    "tags": [],
    "cell_id": "00078-fa643ff1-9455-4b1a-b5dd-34a940ad6903",
    "deepnote_cell_type": "markdown"
   }
  },
  {
   "cell_type": "code",
   "metadata": {
    "tags": [],
    "cell_id": "00066-387afccb-ef9d-4322-8c3d-070fc44b673f",
    "deepnote_to_be_reexecuted": false,
    "source_hash": "4cf95e00",
    "execution_start": 1631372270570,
    "execution_millis": 66,
    "deepnote_cell_type": "code"
   },
   "source": "df[['neighbourhood_group']].info()",
   "outputs": [
    {
     "name": "stdout",
     "text": "<class 'pandas.core.frame.DataFrame'>\nRangeIndex: 1795 entries, 0 to 1794\nData columns (total 1 columns):\n #   Column               Non-Null Count  Dtype   \n---  ------               --------------  -----   \n 0   neighbourhood_group  1795 non-null   category\ndtypes: category(1)\nmemory usage: 2.3 KB\n",
     "output_type": "stream"
    }
   ],
   "execution_count": 22
  },
  {
   "cell_type": "markdown",
   "source": "This will allow us to more easily group the values into the different categories and even be able to sort them ",
   "metadata": {
    "tags": [],
    "cell_id": "00068-c12d362d-d6e3-448c-a6c1-2f783e83d776",
    "deepnote_cell_type": "markdown"
   }
  },
  {
   "cell_type": "code",
   "metadata": {
    "tags": [],
    "cell_id": "00067-235cba54-6495-4d62-95df-1c8bff6a415d",
    "deepnote_to_be_reexecuted": false,
    "source_hash": "fd82eb94",
    "execution_start": 1631372270574,
    "execution_millis": 80,
    "deepnote_cell_type": "code"
   },
   "source": "df_neighbourhood_group =df[['neighbourhood_group','id']].groupby(by='neighbourhood_group').count()\ndf_neighbourhood_group_sorted = df_neighbourhood_group.sort_values(by='id')\ndf_neighbourhood_group_sorted.reset_index(inplace=True)\ndf_neighbourhood_group_sorted",
   "outputs": [
    {
     "output_type": "execute_result",
     "execution_count": 23,
     "data": {
      "application/vnd.deepnote.dataframe.v2+json": {
       "row_count": 12,
       "column_count": 2,
       "columns": [
        {
         "name": "neighbourhood_group",
         "dtype": "category",
         "stats": {
          "unique_count": 12,
          "nan_count": 0,
          "categories": [
           {
            "name": "Kreis 12",
            "count": 1
           },
           {
            "name": "Kreis 5",
            "count": 1
           },
           {
            "name": "10 others",
            "count": 10
           }
          ]
         }
        },
        {
         "name": "id",
         "dtype": "int64",
         "stats": {
          "unique_count": 12,
          "nan_count": 0,
          "min": "32",
          "max": "256",
          "histogram": [
           {
            "bin_start": 32,
            "bin_end": 54.4,
            "count": 1
           },
           {
            "bin_start": 54.4,
            "bin_end": 76.8,
            "count": 0
           },
           {
            "bin_start": 76.8,
            "bin_end": 99.19999999999999,
            "count": 2
           },
           {
            "bin_start": 99.19999999999999,
            "bin_end": 121.6,
            "count": 1
           },
           {
            "bin_start": 121.6,
            "bin_end": 144,
            "count": 1
           },
           {
            "bin_start": 144,
            "bin_end": 166.39999999999998,
            "count": 3
           },
           {
            "bin_start": 166.39999999999998,
            "bin_end": 188.79999999999998,
            "count": 1
           },
           {
            "bin_start": 188.79999999999998,
            "bin_end": 211.2,
            "count": 0
           },
           {
            "bin_start": 211.2,
            "bin_end": 233.6,
            "count": 2
           },
           {
            "bin_start": 233.6,
            "bin_end": 256,
            "count": 1
           }
          ]
         }
        },
        {
         "name": "_deepnote_index_column",
         "dtype": "int64"
        }
       ],
       "rows_top": [
        {
         "neighbourhood_group": "Kreis 12",
         "id": 32,
         "_deepnote_index_column": 0
        },
        {
         "neighbourhood_group": "Kreis 5",
         "id": 88,
         "_deepnote_index_column": 1
        },
        {
         "neighbourhood_group": "Kreis 10",
         "id": 97,
         "_deepnote_index_column": 2
        },
        {
         "neighbourhood_group": "Kreis 6",
         "id": 108,
         "_deepnote_index_column": 3
        },
        {
         "neighbourhood_group": "Kreis 2",
         "id": 125,
         "_deepnote_index_column": 4
        },
        {
         "neighbourhood_group": "Kreis 9",
         "id": 147,
         "_deepnote_index_column": 5
        },
        {
         "neighbourhood_group": "Kreis 1",
         "id": 155,
         "_deepnote_index_column": 6
        },
        {
         "neighbourhood_group": "Kreis 7",
         "id": 165,
         "_deepnote_index_column": 7
        },
        {
         "neighbourhood_group": "Kreis 8",
         "id": 177,
         "_deepnote_index_column": 8
        },
        {
         "neighbourhood_group": "Kreis 3",
         "id": 221,
         "_deepnote_index_column": 9
        },
        {
         "neighbourhood_group": "Kreis 11",
         "id": 224,
         "_deepnote_index_column": 10
        },
        {
         "neighbourhood_group": "Kreis 4",
         "id": 256,
         "_deepnote_index_column": 11
        }
       ],
       "rows_bottom": null
      },
      "text/plain": "   neighbourhood_group   id\n0             Kreis 12   32\n1              Kreis 5   88\n2             Kreis 10   97\n3              Kreis 6  108\n4              Kreis 2  125\n5              Kreis 9  147\n6              Kreis 1  155\n7              Kreis 7  165\n8              Kreis 8  177\n9              Kreis 3  221\n10            Kreis 11  224\n11             Kreis 4  256",
      "text/html": "<div>\n<style scoped>\n    .dataframe tbody tr th:only-of-type {\n        vertical-align: middle;\n    }\n\n    .dataframe tbody tr th {\n        vertical-align: top;\n    }\n\n    .dataframe thead th {\n        text-align: right;\n    }\n</style>\n<table border=\"1\" class=\"dataframe\">\n  <thead>\n    <tr style=\"text-align: right;\">\n      <th></th>\n      <th>neighbourhood_group</th>\n      <th>id</th>\n    </tr>\n  </thead>\n  <tbody>\n    <tr>\n      <th>0</th>\n      <td>Kreis 12</td>\n      <td>32</td>\n    </tr>\n    <tr>\n      <th>1</th>\n      <td>Kreis 5</td>\n      <td>88</td>\n    </tr>\n    <tr>\n      <th>2</th>\n      <td>Kreis 10</td>\n      <td>97</td>\n    </tr>\n    <tr>\n      <th>3</th>\n      <td>Kreis 6</td>\n      <td>108</td>\n    </tr>\n    <tr>\n      <th>4</th>\n      <td>Kreis 2</td>\n      <td>125</td>\n    </tr>\n    <tr>\n      <th>5</th>\n      <td>Kreis 9</td>\n      <td>147</td>\n    </tr>\n    <tr>\n      <th>6</th>\n      <td>Kreis 1</td>\n      <td>155</td>\n    </tr>\n    <tr>\n      <th>7</th>\n      <td>Kreis 7</td>\n      <td>165</td>\n    </tr>\n    <tr>\n      <th>8</th>\n      <td>Kreis 8</td>\n      <td>177</td>\n    </tr>\n    <tr>\n      <th>9</th>\n      <td>Kreis 3</td>\n      <td>221</td>\n    </tr>\n    <tr>\n      <th>10</th>\n      <td>Kreis 11</td>\n      <td>224</td>\n    </tr>\n    <tr>\n      <th>11</th>\n      <td>Kreis 4</td>\n      <td>256</td>\n    </tr>\n  </tbody>\n</table>\n</div>"
     },
     "metadata": {}
    }
   ],
   "execution_count": 23
  },
  {
   "cell_type": "markdown",
   "source": "Once sorted, a barplot will be able to provide us with the category with most values and visualize the difference between them ",
   "metadata": {
    "tags": [],
    "cell_id": "00082-18d7c368-dea5-4d1c-bd0b-0051e8fb0a74",
    "deepnote_cell_type": "markdown"
   }
  },
  {
   "cell_type": "code",
   "metadata": {
    "tags": [],
    "cell_id": "00067-ce43bab6-4072-4045-9400-8ac1beadbc38",
    "deepnote_to_be_reexecuted": false,
    "source_hash": "76522ccb",
    "execution_start": 1631372270613,
    "execution_millis": 331,
    "deepnote_cell_type": "code"
   },
   "source": "plt.bar(x=df_neighbourhood_group_sorted['neighbourhood_group'],height=df_neighbourhood_group_sorted['id'])\nplt.title('bar plot of the amount of listings located on each neighbourhood group')\n",
   "outputs": [
    {
     "output_type": "execute_result",
     "execution_count": 24,
     "data": {
      "text/plain": "Text(0.5, 1.0, 'bar plot of the amount of listings located on each neighbourhood group')"
     },
     "metadata": {}
    },
    {
     "data": {
      "text/plain": "<Figure size 720x720 with 1 Axes>",
      "image/png": "[encoded data removed]"
     },
     "metadata": {
      "needs_background": "light",
      "image/png": {
       "width": 598,
       "height": 590
      }
     },
     "output_type": "display_data"
    }
   ],
   "execution_count": 24
  },
  {
   "cell_type": "markdown",
   "source": "**What can we analyze from the previous information?**",
   "metadata": {
    "tags": [],
    "cell_id": "00084-98cc32ab-5bff-4de2-ac40-b522695e6f59",
    "deepnote_cell_type": "markdown"
   }
  },
  {
   "cell_type": "markdown",
   "source": "**Answer here**",
   "metadata": {
    "tags": [],
    "cell_id": "00085-626d6bcc-f659-4a4b-8a30-91bf56c85084",
    "deepnote_cell_type": "markdown"
   }
  },
  {
   "cell_type": "markdown",
   "source": "The same process can be applied to the Column Neighborhood",
   "metadata": {
    "tags": [],
    "cell_id": "00071-780e85f4-7d8e-40f6-87b2-52e3e2d1ce45",
    "deepnote_cell_type": "markdown"
   }
  },
  {
   "cell_type": "code",
   "metadata": {
    "tags": [],
    "cell_id": "00072-a15a63f4-99b8-469a-a98f-c7624acb6a15",
    "deepnote_to_be_reexecuted": false,
    "source_hash": "116fd209",
    "execution_start": 1631372270894,
    "execution_millis": 50,
    "deepnote_cell_type": "code"
   },
   "source": "df['neighbourhood'].unique()",
   "outputs": [
    {
     "output_type": "execute_result",
     "execution_count": 25,
     "data": {
      "text/plain": "array(['Sihlfeld', 'Alt-Wiedikon', 'Enge', 'Höngg', 'Wollishofen',\n       'Escher Wyss', 'Gewerbeschule', 'Rathaus', 'Hochschulen',\n       'Altstetten', 'Fluntern', 'Oerlikon', 'Wipkingen', 'Hard',\n       'Langstrasse', 'Friesenberg', 'Seefeld', 'Seebach', 'Weinegg',\n       'Affoltern', 'Mühlebach', 'Hirslanden', 'Unterstrass',\n       'Oberstrass', 'Hottingen', 'Albisrieden', 'Werd', 'Lindenhof',\n       'Witikon', 'City', 'Hirzenbach', 'Schwamendingen-Mitte', 'Saatlen',\n       'Leimbach'], dtype=object)"
     },
     "metadata": {}
    }
   ],
   "execution_count": 25
  },
  {
   "cell_type": "code",
   "metadata": {
    "tags": [],
    "cell_id": "00073-fc765b20-fc7c-4e94-9fbd-f1ca7c030622",
    "deepnote_to_be_reexecuted": false,
    "source_hash": "9cec129d",
    "execution_start": 1631372270895,
    "execution_millis": 0,
    "deepnote_cell_type": "code"
   },
   "source": "df['neighbourhood'] = df['neighbourhood'].astype('category')",
   "outputs": [],
   "execution_count": 26
  },
  {
   "cell_type": "code",
   "metadata": {
    "tags": [],
    "cell_id": "00073-717bda1e-9b92-46cf-8ddd-7e55c4baa72b",
    "deepnote_to_be_reexecuted": false,
    "source_hash": "792b85b",
    "execution_start": 1631372270895,
    "execution_millis": 49,
    "deepnote_cell_type": "code"
   },
   "source": "df['neighbourhood'].cat.categories",
   "outputs": [
    {
     "output_type": "execute_result",
     "execution_count": 27,
     "data": {
      "text/plain": "Index(['Affoltern', 'Albisrieden', 'Alt-Wiedikon', 'Altstetten', 'City',\n       'Enge', 'Escher Wyss', 'Fluntern', 'Friesenberg', 'Gewerbeschule',\n       'Hard', 'Hirslanden', 'Hirzenbach', 'Hochschulen', 'Hottingen', 'Höngg',\n       'Langstrasse', 'Leimbach', 'Lindenhof', 'Mühlebach', 'Oberstrass',\n       'Oerlikon', 'Rathaus', 'Saatlen', 'Schwamendingen-Mitte', 'Seebach',\n       'Seefeld', 'Sihlfeld', 'Unterstrass', 'Weinegg', 'Werd', 'Wipkingen',\n       'Witikon', 'Wollishofen'],\n      dtype='object')"
     },
     "metadata": {}
    }
   ],
   "execution_count": 27
  },
  {
   "cell_type": "code",
   "metadata": {
    "tags": [],
    "cell_id": "00075-bc7dbe8e-ac1c-4149-92bd-3ad43e2b90aa",
    "deepnote_to_be_reexecuted": false,
    "source_hash": "1c79c8d3",
    "execution_start": 1631372270918,
    "execution_millis": 63,
    "deepnote_cell_type": "code"
   },
   "source": "df_neighbourhood =df[['neighbourhood','id']].groupby(by='neighbourhood').count()\ndf_neighbourhood",
   "outputs": [
    {
     "output_type": "execute_result",
     "execution_count": 28,
     "data": {
      "application/vnd.deepnote.dataframe.v2+json": {
       "row_count": 34,
       "column_count": 1,
       "columns": [
        {
         "name": "id",
         "dtype": "int64",
         "stats": {
          "unique_count": 30,
          "nan_count": 0,
          "min": "3",
          "max": "124",
          "histogram": [
           {
            "bin_start": 3,
            "bin_end": 15.1,
            "count": 6
           },
           {
            "bin_start": 15.1,
            "bin_end": 27.2,
            "count": 3
           },
           {
            "bin_start": 27.2,
            "bin_end": 39.3,
            "count": 6
           },
           {
            "bin_start": 39.3,
            "bin_end": 51.4,
            "count": 3
           },
           {
            "bin_start": 51.4,
            "bin_end": 63.5,
            "count": 3
           },
           {
            "bin_start": 63.5,
            "bin_end": 75.6,
            "count": 5
           },
           {
            "bin_start": 75.6,
            "bin_end": 87.7,
            "count": 2
           },
           {
            "bin_start": 87.7,
            "bin_end": 99.8,
            "count": 1
           },
           {
            "bin_start": 99.8,
            "bin_end": 111.89999999999999,
            "count": 2
           },
           {
            "bin_start": 111.89999999999999,
            "bin_end": 124,
            "count": 3
           }
          ]
         }
        },
        {
         "name": "_deepnote_index_column",
         "dtype": "category"
        }
       ],
       "rows_top": [
        {
         "id": 31,
         "_deepnote_index_column": "Affoltern"
        },
        {
         "id": 33,
         "_deepnote_index_column": "Albisrieden"
        },
        {
         "id": 108,
         "_deepnote_index_column": "Alt-Wiedikon"
        },
        {
         "id": 114,
         "_deepnote_index_column": "Altstetten"
        },
        {
         "id": 22,
         "_deepnote_index_column": "City"
        },
        {
         "id": 72,
         "_deepnote_index_column": "Enge"
        },
        {
         "id": 30,
         "_deepnote_index_column": "Escher Wyss"
        },
        {
         "id": 48,
         "_deepnote_index_column": "Fluntern"
        },
        {
         "id": 13,
         "_deepnote_index_column": "Friesenberg"
        },
        {
         "id": 58,
         "_deepnote_index_column": "Gewerbeschule"
        },
        {
         "id": 65,
         "_deepnote_index_column": "Hard"
        },
        {
         "id": 38,
         "_deepnote_index_column": "Hirslanden"
        },
        {
         "id": 15,
         "_deepnote_index_column": "Hirzenbach"
        },
        {
         "id": 13,
         "_deepnote_index_column": "Hochschulen"
        },
        {
         "id": 57,
         "_deepnote_index_column": "Hottingen"
        },
        {
         "id": 33,
         "_deepnote_index_column": "Höngg"
        },
        {
         "id": 124,
         "_deepnote_index_column": "Langstrasse"
        },
        {
         "id": 3,
         "_deepnote_index_column": "Leimbach"
        },
        {
         "id": 39,
         "_deepnote_index_column": "Lindenhof"
        },
        {
         "id": 63,
         "_deepnote_index_column": "Mühlebach"
        },
        {
         "id": 43,
         "_deepnote_index_column": "Oberstrass"
        },
        {
         "id": 116,
         "_deepnote_index_column": "Oerlikon"
        },
        {
         "id": 81,
         "_deepnote_index_column": "Rathaus"
        },
        {
         "id": 5,
         "_deepnote_index_column": "Saatlen"
        },
        {
         "id": 12,
         "_deepnote_index_column": "Schwamendingen-Mitte"
        },
        {
         "id": 77,
         "_deepnote_index_column": "Seebach"
        },
        {
         "id": 93,
         "_deepnote_index_column": "Seefeld"
        },
        {
         "id": 100,
         "_deepnote_index_column": "Sihlfeld"
        },
        {
         "id": 65,
         "_deepnote_index_column": "Unterstrass"
        },
        {
         "id": 21,
         "_deepnote_index_column": "Weinegg"
        },
        {
         "id": 67,
         "_deepnote_index_column": "Werd"
        },
        {
         "id": 64,
         "_deepnote_index_column": "Wipkingen"
        },
        {
         "id": 22,
         "_deepnote_index_column": "Witikon"
        },
        {
         "id": 50,
         "_deepnote_index_column": "Wollishofen"
        }
       ],
       "rows_bottom": null
      },
      "text/plain": "                       id\nneighbourhood            \nAffoltern              31\nAlbisrieden            33\nAlt-Wiedikon          108\nAltstetten            114\nCity                   22\nEnge                   72\nEscher Wyss            30\nFluntern               48\nFriesenberg            13\nGewerbeschule          58\nHard                   65\nHirslanden             38\nHirzenbach             15\nHochschulen            13\nHottingen              57\nHöngg                  33\nLangstrasse           124\nLeimbach                3\nLindenhof              39\nMühlebach              63\nOberstrass             43\nOerlikon              116\nRathaus                81\nSaatlen                 5\nSchwamendingen-Mitte   12\nSeebach                77\nSeefeld                93\nSihlfeld              100\nUnterstrass            65\nWeinegg                21\nWerd                   67\nWipkingen              64\nWitikon                22\nWollishofen            50",
      "text/html": "<div>\n<style scoped>\n    .dataframe tbody tr th:only-of-type {\n        vertical-align: middle;\n    }\n\n    .dataframe tbody tr th {\n        vertical-align: top;\n    }\n\n    .dataframe thead th {\n        text-align: right;\n    }\n</style>\n<table border=\"1\" class=\"dataframe\">\n  <thead>\n    <tr style=\"text-align: right;\">\n      <th></th>\n      <th>id</th>\n    </tr>\n    <tr>\n      <th>neighbourhood</th>\n      <th></th>\n    </tr>\n  </thead>\n  <tbody>\n    <tr>\n      <th>Affoltern</th>\n      <td>31</td>\n    </tr>\n    <tr>\n      <th>Albisrieden</th>\n      <td>33</td>\n    </tr>\n    <tr>\n      <th>Alt-Wiedikon</th>\n      <td>108</td>\n    </tr>\n    <tr>\n      <th>Altstetten</th>\n      <td>114</td>\n    </tr>\n    <tr>\n      <th>City</th>\n      <td>22</td>\n    </tr>\n    <tr>\n      <th>Enge</th>\n      <td>72</td>\n    </tr>\n    <tr>\n      <th>Escher Wyss</th>\n      <td>30</td>\n    </tr>\n    <tr>\n      <th>Fluntern</th>\n      <td>48</td>\n    </tr>\n    <tr>\n      <th>Friesenberg</th>\n      <td>13</td>\n    </tr>\n    <tr>\n      <th>Gewerbeschule</th>\n      <td>58</td>\n    </tr>\n    <tr>\n      <th>Hard</th>\n      <td>65</td>\n    </tr>\n    <tr>\n      <th>Hirslanden</th>\n      <td>38</td>\n    </tr>\n    <tr>\n      <th>Hirzenbach</th>\n      <td>15</td>\n    </tr>\n    <tr>\n      <th>Hochschulen</th>\n      <td>13</td>\n    </tr>\n    <tr>\n      <th>Hottingen</th>\n      <td>57</td>\n    </tr>\n    <tr>\n      <th>Höngg</th>\n      <td>33</td>\n    </tr>\n    <tr>\n      <th>Langstrasse</th>\n      <td>124</td>\n    </tr>\n    <tr>\n      <th>Leimbach</th>\n      <td>3</td>\n    </tr>\n    <tr>\n      <th>Lindenhof</th>\n      <td>39</td>\n    </tr>\n    <tr>\n      <th>Mühlebach</th>\n      <td>63</td>\n    </tr>\n    <tr>\n      <th>Oberstrass</th>\n      <td>43</td>\n    </tr>\n    <tr>\n      <th>Oerlikon</th>\n      <td>116</td>\n    </tr>\n    <tr>\n      <th>Rathaus</th>\n      <td>81</td>\n    </tr>\n    <tr>\n      <th>Saatlen</th>\n      <td>5</td>\n    </tr>\n    <tr>\n      <th>Schwamendingen-Mitte</th>\n      <td>12</td>\n    </tr>\n    <tr>\n      <th>Seebach</th>\n      <td>77</td>\n    </tr>\n    <tr>\n      <th>Seefeld</th>\n      <td>93</td>\n    </tr>\n    <tr>\n      <th>Sihlfeld</th>\n      <td>100</td>\n    </tr>\n    <tr>\n      <th>Unterstrass</th>\n      <td>65</td>\n    </tr>\n    <tr>\n      <th>Weinegg</th>\n      <td>21</td>\n    </tr>\n    <tr>\n      <th>Werd</th>\n      <td>67</td>\n    </tr>\n    <tr>\n      <th>Wipkingen</th>\n      <td>64</td>\n    </tr>\n    <tr>\n      <th>Witikon</th>\n      <td>22</td>\n    </tr>\n    <tr>\n      <th>Wollishofen</th>\n      <td>50</td>\n    </tr>\n  </tbody>\n</table>\n</div>"
     },
     "metadata": {}
    }
   ],
   "execution_count": 28
  },
  {
   "cell_type": "code",
   "metadata": {
    "tags": [],
    "cell_id": "00076-7334b2c3-7dee-45bf-8b02-25222f7a9aac",
    "deepnote_to_be_reexecuted": false,
    "source_hash": "574bf6c2",
    "execution_start": 1631373133198,
    "execution_millis": 866,
    "deepnote_cell_type": "code"
   },
   "source": "\nfig,ax = plt.subplots()\nsns.barplot(x=df_neighbourhood.index,y=df_neighbourhood['id'])\nfig.suptitle('bar plot of the amount of listings located on each neighbourhood', fontsize=50)\nax.set_xlabel('Neighborhood', fontsize=40)\nax.set_ylabel('Amount of Rentals', fontsize=40)\n\n",
   "outputs": [
    {
     "output_type": "execute_result",
     "execution_count": 61,
     "data": {
      "text/plain": "Text(0, 0.5, 'Amount of Rentals')"
     },
     "metadata": {}
    },
    {
     "data": {
      "text/plain": "<Figure size 3240x1440 with 1 Axes>",
      "image/png": "[encoded data removed]"
     },
     "metadata": {
      "needs_background": "light",
      "image/png": {
       "width": 2608,
       "height": 1310
      }
     },
     "output_type": "display_data"
    }
   ],
   "execution_count": 61
  },
  {
   "cell_type": "markdown",
   "source": "**What can we analyze from the previous information?**",
   "metadata": {
    "tags": [],
    "cell_id": "00091-77e596c7-aa72-4510-a582-3603126dd66e",
    "deepnote_cell_type": "markdown"
   }
  },
  {
   "cell_type": "markdown",
   "source": "**Answer here**",
   "metadata": {
    "tags": [],
    "cell_id": "00093-6feb1121-954d-4755-b563-4b0a952811a6",
    "deepnote_cell_type": "markdown"
   }
  },
  {
   "cell_type": "markdown",
   "source": "This graph can be ordered by the amount of listings. We would need to order the dataframe and then let the graph know that order",
   "metadata": {
    "tags": [],
    "cell_id": "00090-75233c3b-2bab-4d19-a93c-e029e7f7a2eb",
    "deepnote_cell_type": "markdown"
   }
  },
  {
   "cell_type": "code",
   "source": "df_neighbourhood.sort_values(by='id', ascending=False,inplace=True)\ndf_neighbourhood",
   "metadata": {
    "tags": [],
    "cell_id": "00090-529bce10-f89d-4528-8083-329d632894b5",
    "deepnote_to_be_reexecuted": false,
    "source_hash": "10c07e53",
    "execution_start": 1631373415525,
    "execution_millis": 40,
    "deepnote_cell_type": "code"
   },
   "outputs": [
    {
     "output_type": "execute_result",
     "execution_count": 70,
     "data": {
      "application/vnd.deepnote.dataframe.v2+json": {
       "row_count": 34,
       "column_count": 1,
       "columns": [
        {
         "name": "id",
         "dtype": "int64",
         "stats": {
          "unique_count": 30,
          "nan_count": 0,
          "min": "3",
          "max": "124",
          "histogram": [
           {
            "bin_start": 3,
            "bin_end": 15.1,
            "count": 6
           },
           {
            "bin_start": 15.1,
            "bin_end": 27.2,
            "count": 3
           },
           {
            "bin_start": 27.2,
            "bin_end": 39.3,
            "count": 6
           },
           {
            "bin_start": 39.3,
            "bin_end": 51.4,
            "count": 3
           },
           {
            "bin_start": 51.4,
            "bin_end": 63.5,
            "count": 3
           },
           {
            "bin_start": 63.5,
            "bin_end": 75.6,
            "count": 5
           },
           {
            "bin_start": 75.6,
            "bin_end": 87.7,
            "count": 2
           },
           {
            "bin_start": 87.7,
            "bin_end": 99.8,
            "count": 1
           },
           {
            "bin_start": 99.8,
            "bin_end": 111.89999999999999,
            "count": 2
           },
           {
            "bin_start": 111.89999999999999,
            "bin_end": 124,
            "count": 3
           }
          ]
         }
        },
        {
         "name": "_deepnote_index_column",
         "dtype": "category"
        }
       ],
       "rows_top": [
        {
         "id": 124,
         "_deepnote_index_column": "Langstrasse"
        },
        {
         "id": 116,
         "_deepnote_index_column": "Oerlikon"
        },
        {
         "id": 114,
         "_deepnote_index_column": "Altstetten"
        },
        {
         "id": 108,
         "_deepnote_index_column": "Alt-Wiedikon"
        },
        {
         "id": 100,
         "_deepnote_index_column": "Sihlfeld"
        },
        {
         "id": 93,
         "_deepnote_index_column": "Seefeld"
        },
        {
         "id": 81,
         "_deepnote_index_column": "Rathaus"
        },
        {
         "id": 77,
         "_deepnote_index_column": "Seebach"
        },
        {
         "id": 72,
         "_deepnote_index_column": "Enge"
        },
        {
         "id": 67,
         "_deepnote_index_column": "Werd"
        },
        {
         "id": 65,
         "_deepnote_index_column": "Unterstrass"
        },
        {
         "id": 65,
         "_deepnote_index_column": "Hard"
        },
        {
         "id": 64,
         "_deepnote_index_column": "Wipkingen"
        },
        {
         "id": 63,
         "_deepnote_index_column": "Mühlebach"
        },
        {
         "id": 58,
         "_deepnote_index_column": "Gewerbeschule"
        },
        {
         "id": 57,
         "_deepnote_index_column": "Hottingen"
        },
        {
         "id": 50,
         "_deepnote_index_column": "Wollishofen"
        },
        {
         "id": 48,
         "_deepnote_index_column": "Fluntern"
        },
        {
         "id": 43,
         "_deepnote_index_column": "Oberstrass"
        },
        {
         "id": 39,
         "_deepnote_index_column": "Lindenhof"
        },
        {
         "id": 38,
         "_deepnote_index_column": "Hirslanden"
        },
        {
         "id": 33,
         "_deepnote_index_column": "Albisrieden"
        },
        {
         "id": 33,
         "_deepnote_index_column": "Höngg"
        },
        {
         "id": 31,
         "_deepnote_index_column": "Affoltern"
        },
        {
         "id": 30,
         "_deepnote_index_column": "Escher Wyss"
        },
        {
         "id": 22,
         "_deepnote_index_column": "City"
        },
        {
         "id": 22,
         "_deepnote_index_column": "Witikon"
        },
        {
         "id": 21,
         "_deepnote_index_column": "Weinegg"
        },
        {
         "id": 15,
         "_deepnote_index_column": "Hirzenbach"
        },
        {
         "id": 13,
         "_deepnote_index_column": "Hochschulen"
        },
        {
         "id": 13,
         "_deepnote_index_column": "Friesenberg"
        },
        {
         "id": 12,
         "_deepnote_index_column": "Schwamendingen-Mitte"
        },
        {
         "id": 5,
         "_deepnote_index_column": "Saatlen"
        },
        {
         "id": 3,
         "_deepnote_index_column": "Leimbach"
        }
       ],
       "rows_bottom": null
      },
      "text/plain": "                       id\nneighbourhood            \nLangstrasse           124\nOerlikon              116\nAltstetten            114\nAlt-Wiedikon          108\nSihlfeld              100\nSeefeld                93\nRathaus                81\nSeebach                77\nEnge                   72\nWerd                   67\nUnterstrass            65\nHard                   65\nWipkingen              64\nMühlebach              63\nGewerbeschule          58\nHottingen              57\nWollishofen            50\nFluntern               48\nOberstrass             43\nLindenhof              39\nHirslanden             38\nAlbisrieden            33\nHöngg                  33\nAffoltern              31\nEscher Wyss            30\nCity                   22\nWitikon                22\nWeinegg                21\nHirzenbach             15\nHochschulen            13\nFriesenberg            13\nSchwamendingen-Mitte   12\nSaatlen                 5\nLeimbach                3",
      "text/html": "<div>\n<style scoped>\n    .dataframe tbody tr th:only-of-type {\n        vertical-align: middle;\n    }\n\n    .dataframe tbody tr th {\n        vertical-align: top;\n    }\n\n    .dataframe thead th {\n        text-align: right;\n    }\n</style>\n<table border=\"1\" class=\"dataframe\">\n  <thead>\n    <tr style=\"text-align: right;\">\n      <th></th>\n      <th>id</th>\n    </tr>\n    <tr>\n      <th>neighbourhood</th>\n      <th></th>\n    </tr>\n  </thead>\n  <tbody>\n    <tr>\n      <th>Langstrasse</th>\n      <td>124</td>\n    </tr>\n    <tr>\n      <th>Oerlikon</th>\n      <td>116</td>\n    </tr>\n    <tr>\n      <th>Altstetten</th>\n      <td>114</td>\n    </tr>\n    <tr>\n      <th>Alt-Wiedikon</th>\n      <td>108</td>\n    </tr>\n    <tr>\n      <th>Sihlfeld</th>\n      <td>100</td>\n    </tr>\n    <tr>\n      <th>Seefeld</th>\n      <td>93</td>\n    </tr>\n    <tr>\n      <th>Rathaus</th>\n      <td>81</td>\n    </tr>\n    <tr>\n      <th>Seebach</th>\n      <td>77</td>\n    </tr>\n    <tr>\n      <th>Enge</th>\n      <td>72</td>\n    </tr>\n    <tr>\n      <th>Werd</th>\n      <td>67</td>\n    </tr>\n    <tr>\n      <th>Unterstrass</th>\n      <td>65</td>\n    </tr>\n    <tr>\n      <th>Hard</th>\n      <td>65</td>\n    </tr>\n    <tr>\n      <th>Wipkingen</th>\n      <td>64</td>\n    </tr>\n    <tr>\n      <th>Mühlebach</th>\n      <td>63</td>\n    </tr>\n    <tr>\n      <th>Gewerbeschule</th>\n      <td>58</td>\n    </tr>\n    <tr>\n      <th>Hottingen</th>\n      <td>57</td>\n    </tr>\n    <tr>\n      <th>Wollishofen</th>\n      <td>50</td>\n    </tr>\n    <tr>\n      <th>Fluntern</th>\n      <td>48</td>\n    </tr>\n    <tr>\n      <th>Oberstrass</th>\n      <td>43</td>\n    </tr>\n    <tr>\n      <th>Lindenhof</th>\n      <td>39</td>\n    </tr>\n    <tr>\n      <th>Hirslanden</th>\n      <td>38</td>\n    </tr>\n    <tr>\n      <th>Albisrieden</th>\n      <td>33</td>\n    </tr>\n    <tr>\n      <th>Höngg</th>\n      <td>33</td>\n    </tr>\n    <tr>\n      <th>Affoltern</th>\n      <td>31</td>\n    </tr>\n    <tr>\n      <th>Escher Wyss</th>\n      <td>30</td>\n    </tr>\n    <tr>\n      <th>City</th>\n      <td>22</td>\n    </tr>\n    <tr>\n      <th>Witikon</th>\n      <td>22</td>\n    </tr>\n    <tr>\n      <th>Weinegg</th>\n      <td>21</td>\n    </tr>\n    <tr>\n      <th>Hirzenbach</th>\n      <td>15</td>\n    </tr>\n    <tr>\n      <th>Hochschulen</th>\n      <td>13</td>\n    </tr>\n    <tr>\n      <th>Friesenberg</th>\n      <td>13</td>\n    </tr>\n    <tr>\n      <th>Schwamendingen-Mitte</th>\n      <td>12</td>\n    </tr>\n    <tr>\n      <th>Saatlen</th>\n      <td>5</td>\n    </tr>\n    <tr>\n      <th>Leimbach</th>\n      <td>3</td>\n    </tr>\n  </tbody>\n</table>\n</div>"
     },
     "metadata": {}
    }
   ],
   "execution_count": 70
  },
  {
   "cell_type": "code",
   "source": "\nfig,ax = plt.subplots()\nsns.barplot(x=df_neighbourhood.index,y=df_neighbourhood['id'],order=df_neighbourhood.index)\nfig.suptitle('bar plot of the amount of listings located on each neighbourhood', fontsize=50)\nax.set_xlabel('Neighborhood', fontsize=40)\nax.set_ylabel('Amount of Rentals', fontsize=40)",
   "metadata": {
    "tags": [],
    "cell_id": "00092-e57e6169-c687-41ad-88f6-b69e957826cd",
    "deepnote_to_be_reexecuted": false,
    "source_hash": "3d50b348",
    "execution_start": 1631373548327,
    "execution_millis": 910,
    "deepnote_cell_type": "code"
   },
   "outputs": [
    {
     "output_type": "execute_result",
     "execution_count": 72,
     "data": {
      "text/plain": "Text(0, 0.5, 'Amount of Rentals')"
     },
     "metadata": {}
    },
    {
     "data": {
      "text/plain": "<Figure size 3240x1440 with 1 Axes>",
      "image/png": "[encoded data removed]"
     },
     "metadata": {
      "needs_background": "light",
      "image/png": {
       "width": 2604,
       "height": 1310
      }
     },
     "output_type": "display_data"
    }
   ],
   "execution_count": 72
  },
  {
   "cell_type": "markdown",
   "source": "**What can we analyze from the previous information?**",
   "metadata": {
    "tags": [],
    "cell_id": "00095-fdf60908-a529-4bc1-99c4-0dacc1d8fb4c",
    "deepnote_cell_type": "markdown"
   }
  },
  {
   "cell_type": "markdown",
   "source": "**Answer here**",
   "metadata": {
    "tags": [],
    "cell_id": "00098-b1d4738a-2665-437d-9bab-62c3d4b29601",
    "deepnote_cell_type": "markdown"
   }
  },
  {
   "cell_type": "markdown",
   "source": "And the same process can be applied to the Column room_type",
   "metadata": {
    "tags": [],
    "cell_id": "00090-f4ad511f-c590-43e2-baad-3b306131660b",
    "deepnote_cell_type": "markdown"
   }
  },
  {
   "cell_type": "code",
   "metadata": {
    "tags": [],
    "cell_id": "00077-1004a819-b694-406c-8341-86c3aa88f8fb",
    "deepnote_to_be_reexecuted": false,
    "source_hash": "777cbc51",
    "execution_start": 1631373154937,
    "execution_millis": 30,
    "deepnote_cell_type": "code"
   },
   "source": "df['room_type'].unique()",
   "outputs": [
    {
     "output_type": "execute_result",
     "execution_count": 62,
     "data": {
      "text/plain": "['Entire home/apt', 'Private room', 'Shared room', 'Hotel room']\nCategories (4, object): ['Entire home/apt', 'Private room', 'Shared room', 'Hotel room']"
     },
     "metadata": {}
    }
   ],
   "execution_count": 62
  },
  {
   "cell_type": "code",
   "metadata": {
    "tags": [],
    "cell_id": "00079-f5c8c043-cbe8-4151-aa75-46b3866dc8f2",
    "deepnote_to_be_reexecuted": false,
    "source_hash": "d09d4e41",
    "execution_start": 1631373157722,
    "execution_millis": 0,
    "deepnote_cell_type": "code"
   },
   "source": "df['room_type'] = df['room_type'].astype('category')",
   "outputs": [],
   "execution_count": 63
  },
  {
   "cell_type": "code",
   "metadata": {
    "tags": [],
    "cell_id": "00080-f6b42596-02ba-414a-84a7-0f6a65dc2826",
    "deepnote_to_be_reexecuted": false,
    "source_hash": "e4c8eb31",
    "execution_start": 1631372271771,
    "execution_millis": 41,
    "deepnote_cell_type": "code"
   },
   "source": "df['room_type'].cat.categories",
   "outputs": [
    {
     "output_type": "execute_result",
     "execution_count": 32,
     "data": {
      "text/plain": "Index(['Entire home/apt', 'Hotel room', 'Private room', 'Shared room'], dtype='object')"
     },
     "metadata": {}
    }
   ],
   "execution_count": 32
  },
  {
   "cell_type": "code",
   "metadata": {
    "tags": [],
    "cell_id": "00081-94125f80-b7a0-4f06-98e5-619d6e6ae4e2",
    "deepnote_to_be_reexecuted": false,
    "source_hash": "9b4cfd5e",
    "execution_start": 1631372271780,
    "execution_millis": 42,
    "deepnote_cell_type": "code"
   },
   "source": "df_room_type =df[['room_type','id']].groupby(by='room_type').count()\ndf_room_type",
   "outputs": [
    {
     "output_type": "execute_result",
     "execution_count": 33,
     "data": {
      "application/vnd.deepnote.dataframe.v2+json": {
       "row_count": 4,
       "column_count": 1,
       "columns": [
        {
         "name": "id",
         "dtype": "int64",
         "stats": {
          "unique_count": 4,
          "nan_count": 0,
          "min": "11",
          "max": "1177",
          "histogram": [
           {
            "bin_start": 11,
            "bin_end": 127.6,
            "count": 2
           },
           {
            "bin_start": 127.6,
            "bin_end": 244.2,
            "count": 0
           },
           {
            "bin_start": 244.2,
            "bin_end": 360.79999999999995,
            "count": 0
           },
           {
            "bin_start": 360.79999999999995,
            "bin_end": 477.4,
            "count": 0
           },
           {
            "bin_start": 477.4,
            "bin_end": 594,
            "count": 1
           },
           {
            "bin_start": 594,
            "bin_end": 710.5999999999999,
            "count": 0
           },
           {
            "bin_start": 710.5999999999999,
            "bin_end": 827.1999999999999,
            "count": 0
           },
           {
            "bin_start": 827.1999999999999,
            "bin_end": 943.8,
            "count": 0
           },
           {
            "bin_start": 943.8,
            "bin_end": 1060.3999999999999,
            "count": 0
           },
           {
            "bin_start": 1060.3999999999999,
            "bin_end": 1177,
            "count": 1
           }
          ]
         }
        },
        {
         "name": "_deepnote_index_column",
         "dtype": "category"
        }
       ],
       "rows_top": [
        {
         "id": 1177,
         "_deepnote_index_column": "Entire home/apt"
        },
        {
         "id": 11,
         "_deepnote_index_column": "Hotel room"
        },
        {
         "id": 589,
         "_deepnote_index_column": "Private room"
        },
        {
         "id": 18,
         "_deepnote_index_column": "Shared room"
        }
       ],
       "rows_bottom": null
      },
      "text/plain": "                   id\nroom_type            \nEntire home/apt  1177\nHotel room         11\nPrivate room      589\nShared room        18",
      "text/html": "<div>\n<style scoped>\n    .dataframe tbody tr th:only-of-type {\n        vertical-align: middle;\n    }\n\n    .dataframe tbody tr th {\n        vertical-align: top;\n    }\n\n    .dataframe thead th {\n        text-align: right;\n    }\n</style>\n<table border=\"1\" class=\"dataframe\">\n  <thead>\n    <tr style=\"text-align: right;\">\n      <th></th>\n      <th>id</th>\n    </tr>\n    <tr>\n      <th>room_type</th>\n      <th></th>\n    </tr>\n  </thead>\n  <tbody>\n    <tr>\n      <th>Entire home/apt</th>\n      <td>1177</td>\n    </tr>\n    <tr>\n      <th>Hotel room</th>\n      <td>11</td>\n    </tr>\n    <tr>\n      <th>Private room</th>\n      <td>589</td>\n    </tr>\n    <tr>\n      <th>Shared room</th>\n      <td>18</td>\n    </tr>\n  </tbody>\n</table>\n</div>"
     },
     "metadata": {}
    }
   ],
   "execution_count": 33
  },
  {
   "cell_type": "code",
   "metadata": {
    "tags": [],
    "cell_id": "00082-b274ec14-d998-4139-8890-12ba31091720",
    "deepnote_to_be_reexecuted": false,
    "source_hash": "279cd1b4",
    "execution_start": 1631372271801,
    "execution_millis": 258,
    "deepnote_cell_type": "code"
   },
   "source": "sns.barplot(x=df_room_type.index,y=df_room_type['id'])\nplt.title('bar plot of the types of rooms avialables for rent')",
   "outputs": [
    {
     "output_type": "execute_result",
     "execution_count": 34,
     "data": {
      "text/plain": "Text(0.5, 1.0, 'bar plot of the types of rooms avialables for rent')"
     },
     "metadata": {}
    },
    {
     "data": {
      "text/plain": "<Figure size 720x720 with 1 Axes>",
      "image/png": "[encoded data removed]"
     },
     "metadata": {
      "needs_background": "light",
      "image/png": {
       "width": 618,
       "height": 605
      }
     },
     "output_type": "display_data"
    }
   ],
   "execution_count": 34
  },
  {
   "cell_type": "markdown",
   "source": "**What can we analyze from the previous information?**",
   "metadata": {
    "tags": [],
    "cell_id": "00102-be445040-f000-4f8e-aef2-57243accf3c6",
    "deepnote_cell_type": "markdown"
   }
  },
  {
   "cell_type": "markdown",
   "source": "**Answer here**",
   "metadata": {
    "tags": [],
    "cell_id": "00106-8d9c8768-ccbf-423a-9c1d-65c2409e3d98",
    "deepnote_cell_type": "markdown"
   }
  },
  {
   "cell_type": "markdown",
   "source": "<a style='text-decoration:none;line-height:16px;display:flex;color:#5B5B62;padding:10px;justify-content:end;' href='https://deepnote.com?utm_source=created-in-deepnote-cell&projectId=c3e4079d-b65d-4f98-a9c4-e84568c199f2' target=\"_blank\">\n<img alt='Created in deepnote.com' style='display:inline;max-height:16px;margin:0px;margin-right:7.5px;' src='data:image/svg+xml;base64,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' > </img>\nCreated in <span style='font-weight:600;margin-left:4px;'>Deepnote</span></a>",
   "metadata": {
    "tags": [],
    "created_in_deepnote_cell": true,
    "deepnote_cell_type": "markdown"
   }
  }
 ],
 "nbformat": 4,
 "nbformat_minor": 2,
 "metadata": {
  "orig_nbformat": 2,
  "deepnote": {
   "is_reactive": false
  },
  "deepnote_notebook_id": "e0106022-64cb-4bb8-9099-679f3d8e44e1",
  "deepnote_execution_queue": []
 }
}